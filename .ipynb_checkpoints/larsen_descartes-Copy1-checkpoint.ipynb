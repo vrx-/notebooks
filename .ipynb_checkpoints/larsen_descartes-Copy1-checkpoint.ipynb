{
 "cells": [
  {
   "cell_type": "code",
   "execution_count": 27,
   "metadata": {
    "collapsed": false
   },
   "outputs": [],
   "source": [
    "import descarteslabs as dl\n",
    "import matplotlib.pyplot as plt\n",
    "import itertools\n",
    "import cmocean"
   ]
  },
  {
   "cell_type": "code",
   "execution_count": 2,
   "metadata": {
    "collapsed": true
   },
   "outputs": [],
   "source": [
    "aoi = {\n",
    "        \"type\": \"Polygon\",\n",
    "        \"coordinates\": [\n",
    "          [\n",
    "            [\n",
    "              -62.7978515625,\n",
    "              -69.30279408245204\n",
    "            ],\n",
    "            [\n",
    "              -58.49121093749999,\n",
    "              -69.30279408245204\n",
    "            ],\n",
    "            [\n",
    "              -58.49121093749999,\n",
    "              -67.03316279015063\n",
    "            ],\n",
    "            [\n",
    "              -62.7978515625,\n",
    "              -67.03316279015063\n",
    "            ],\n",
    "            [\n",
    "              -62.7978515625,\n",
    "              -69.30279408245204\n",
    "            ]\n",
    "          ]\n",
    "        ]\n",
    "      }"
   ]
  },
  {
   "cell_type": "code",
   "execution_count": 6,
   "metadata": {
    "collapsed": true
   },
   "outputs": [],
   "source": [
    "fc = dl.metadata.search(products=['sentinel-1:GRD'], geom=aoi, start_time='now-2M', limit=100)"
   ]
  },
  {
   "cell_type": "code",
   "execution_count": 9,
   "metadata": {
    "collapsed": false
   },
   "outputs": [],
   "source": [
    "items = itertools.groupby(\n",
    "    [f for f in fc['features'] if f['properties']['pass']=='DESCENDING'], \n",
    "    key= lambda f: f['properties']['acquired'][:10]\n",
    "    )"
   ]
  },
  {
   "cell_type": "code",
   "execution_count": 13,
   "metadata": {
    "collapsed": false
   },
   "outputs": [],
   "source": [
    "items = sorted([(k, list(v)) for (k,v) in items], key=lambda (k,v): k)"
   ]
  },
  {
   "cell_type": "code",
   "execution_count": 28,
   "metadata": {
    "collapsed": false
   },
   "outputs": [
    {
     "name": "stdout",
     "output_type": "stream",
     "text": [
      "2017-06-21\n",
      "2017-06-21\n",
      "2017-06-22\n",
      "2017-06-22\n",
      "2017-06-24\n",
      "2017-06-24\n",
      "2017-06-24\n",
      "2017-06-27\n",
      "2017-06-27\n",
      "2017-06-29\n",
      "2017-06-29\n",
      "2017-06-30\n",
      "2017-06-30\n",
      "2017-07-03\n",
      "2017-07-03\n",
      "2017-07-04\n",
      "2017-07-06\n",
      "2017-07-06\n",
      "2017-07-11\n",
      "2017-07-11\n",
      "2017-07-12\n",
      "2017-07-12\n",
      "2017-07-15\n",
      "2017-07-15\n",
      "2017-07-16\n",
      "2017-07-18\n",
      "2017-07-18\n",
      "2017-07-18\n"
     ]
    }
   ],
   "source": [
    "full_arr = None\n",
    "fig, ax = plt.subplots(figsize=[16,16])\n",
    "frames = []\n",
    "for day, group in items:\n",
    "    print(day)\n",
    "    arr, meta = dl.raster.ndarray([g['id'] for g in group], srs='EPSG:32720',\n",
    "                                 bands=['vv'], cutline=aoi, resolution=120, align_pixels=True)\n",
    "    if full_arr is None:\n",
    "        full_arr = arr.copy()\n",
    "    \n",
    "    mask = arr !=0\n",
    "    full_arr[mask] = arr[mask]\n",
    "    im = plt.imshow(full_arr, cmap=cmocean.cm.density)\n",
    "    t = plt.text(30, full_arr.shape[0]-40, day, color='red', size='large')\n",
    "    ax.xaxis.set_ticks([])\n",
    "    ax.yaxis.set_ticks([])\n",
    "    fname = \"%s_demo2.png\" % day\n",
    "    out = plt.savefig(fname, bbox_inches='tight')\n",
    "    t.remove()\n",
    "    frames.append(fname)\n",
    "del fig, ax"
   ]
  },
  {
   "cell_type": "code",
   "execution_count": 29,
   "metadata": {
    "collapsed": false
   },
   "outputs": [],
   "source": [
    "!convert 2017*_demo2.png -delay 10 -loop 0 larson_demo2.gif"
   ]
  },
  {
   "cell_type": "code",
   "execution_count": 26,
   "metadata": {
    "collapsed": false
   },
   "outputs": [
    {
     "name": "stdout",
     "output_type": "stream",
     "text": [
      "Failed to acquire exclusive access to AutoFill corrections SQLite store at file:///Users/vrx/Library/Safari/AutoFillCorrections.db.\n",
      "Failed to acquire exclusive access to AutoFill corrections SQLite store at file:///Users/vrx/Library/Safari/AutoFillCorrections.db.\n",
      "Failed to acquire exclusive access to AutoFill corrections SQLite store at file:///Users/vrx/Library/Safari/AutoFillCorrections.db.\n",
      "Failed to acquire exclusive access to AutoFill corrections SQLite store at file:///Users/vrx/Library/Safari/AutoFillCorrections.db.\n",
      "Failed to acquire exclusive access to AutoFill corrections SQLite store at file:///Users/vrx/Library/Safari/AutoFillCorrections.db.\n",
      "Failed to acquire exclusive access to AutoFill corrections SQLite store at file:///Users/vrx/Library/Safari/AutoFillCorrections.db.\n",
      "Failed to acquire exclusive access to AutoFill corrections SQLite store at file:///Users/vrx/Library/Safari/AutoFillCorrections.db.\n",
      "Failed to acquire exclusive access to AutoFill corrections SQLite store at file:///Users/vrx/Library/Safari/AutoFillCorrections.db.\n",
      "Failed to acquire exclusive access to AutoFill corrections SQLite store at file:///Users/vrx/Library/Safari/AutoFillCorrections.db.\n",
      "Failed to acquire exclusive access to AutoFill corrections SQLite store at file:///Users/vrx/Library/Safari/AutoFillCorrections.db.\n",
      "Failed to acquire exclusive access to AutoFill corrections SQLite store at file:///Users/vrx/Library/Safari/AutoFillCorrections.db.\n",
      "Failed to acquire exclusive access to AutoFill corrections SQLite store at file:///Users/vrx/Library/Safari/AutoFillCorrections.db.\n",
      "Failed to acquire exclusive access to AutoFill corrections SQLite store at file:///Users/vrx/Library/Safari/AutoFillCorrections.db.\n",
      "Failed to acquire exclusive access to AutoFill corrections SQLite store at file:///Users/vrx/Library/Safari/AutoFillCorrections.db.\n",
      "Failed to acquire exclusive access to AutoFill corrections SQLite store at file:///Users/vrx/Library/Safari/AutoFillCorrections.db.\n",
      "Failed to acquire exclusive access to AutoFill corrections SQLite store at file:///Users/vrx/Library/Safari/AutoFillCorrections.db.\n",
      "Failed to acquire exclusive access to AutoFill corrections SQLite store at file:///Users/vrx/Library/Safari/AutoFillCorrections.db.\n",
      "Failed to acquire exclusive access to AutoFill corrections SQLite store at file:///Users/vrx/Library/Safari/AutoFillCorrections.db.\n",
      "Failed to acquire exclusive access to AutoFill corrections SQLite store at file:///Users/vrx/Library/Safari/AutoFillCorrections.db.\n",
      "Failed to acquire exclusive access to AutoFill corrections SQLite store at file:///Users/vrx/Library/Safari/AutoFillCorrections.db.\n",
      "Failed to acquire exclusive access to AutoFill corrections SQLite store at file:///Users/vrx/Library/Safari/AutoFillCorrections.db.\n",
      "Failed to acquire exclusive access to AutoFill corrections SQLite store at file:///Users/vrx/Library/Safari/AutoFillCorrections.db.\n",
      "Failed to acquire exclusive access to AutoFill corrections SQLite store at file:///Users/vrx/Library/Safari/AutoFillCorrections.db.\n",
      "Failed to acquire exclusive access to AutoFill corrections SQLite store at file:///Users/vrx/Library/Safari/AutoFillCorrections.db.\n",
      "Failed to acquire exclusive access to AutoFill corrections SQLite store at file:///Users/vrx/Library/Safari/AutoFillCorrections.db.\n",
      "Failed to acquire exclusive access to AutoFill corrections SQLite store at file:///Users/vrx/Library/Safari/AutoFillCorrections.db.\n",
      "Failed to acquire exclusive access to AutoFill corrections SQLite store at file:///Users/vrx/Library/Safari/AutoFillCorrections.db.\n",
      "Failed to acquire exclusive access to AutoFill corrections SQLite store at file:///Users/vrx/Library/Safari/AutoFillCorrections.db.\n",
      "Failed to acquire exclusive access to AutoFill corrections SQLite store at file:///Users/vrx/Library/Safari/AutoFillCorrections.db.\n",
      "Failed to acquire exclusive access to AutoFill corrections SQLite store at file:///Users/vrx/Library/Safari/AutoFillCorrections.db.\n",
      "Failed to acquire exclusive access to AutoFill corrections SQLite store at file:///Users/vrx/Library/Safari/AutoFillCorrections.db.\n",
      "Failed to acquire exclusive access to AutoFill corrections SQLite store at file:///Users/vrx/Library/Safari/AutoFillCorrections.db.\n",
      "Failed to acquire exclusive access to AutoFill corrections SQLite store at file:///Users/vrx/Library/Safari/AutoFillCorrections.db.\n",
      "Failed to acquire exclusive access to AutoFill corrections SQLite store at file:///Users/vrx/Library/Safari/AutoFillCorrections.db.\n",
      "Failed to acquire exclusive access to AutoFill corrections SQLite store at file:///Users/vrx/Library/Safari/AutoFillCorrections.db.\n",
      "Failed to acquire exclusive access to AutoFill corrections SQLite store at file:///Users/vrx/Library/Safari/AutoFillCorrections.db.\n",
      "Failed to acquire exclusive access to AutoFill corrections SQLite store at file:///Users/vrx/Library/Safari/AutoFillCorrections.db.\n",
      "Failed to acquire exclusive access to AutoFill corrections SQLite store at file:///Users/vrx/Library/Safari/AutoFillCorrections.db.\n",
      "Failed to acquire exclusive access to AutoFill corrections SQLite store at file:///Users/vrx/Library/Safari/AutoFillCorrections.db.\n",
      "Failed to acquire exclusive access to AutoFill corrections SQLite store at file:///Users/vrx/Library/Safari/AutoFillCorrections.db.\n",
      "Failed to acquire exclusive access to AutoFill corrections SQLite store at file:///Users/vrx/Library/Safari/AutoFillCorrections.db.\n",
      "Failed to acquire exclusive access to AutoFill corrections SQLite store at file:///Users/vrx/Library/Safari/AutoFillCorrections.db.\n",
      "Failed to acquire exclusive access to AutoFill corrections SQLite store at file:///Users/vrx/Library/Safari/AutoFillCorrections.db.\n",
      "Failed to acquire exclusive access to AutoFill corrections SQLite store at file:///Users/vrx/Library/Safari/AutoFillCorrections.db.\n",
      "Failed to acquire exclusive access to AutoFill corrections SQLite store at file:///Users/vrx/Library/Safari/AutoFillCorrections.db.\n",
      "Failed to acquire exclusive access to AutoFill corrections SQLite store at file:///Users/vrx/Library/Safari/AutoFillCorrections.db.\n",
      "Failed to acquire exclusive access to AutoFill corrections SQLite store at file:///Users/vrx/Library/Safari/AutoFillCorrections.db.\n",
      "Failed to acquire exclusive access to AutoFill corrections SQLite store at file:///Users/vrx/Library/Safari/AutoFillCorrections.db.\n",
      "Failed to acquire exclusive access to AutoFill corrections SQLite store at file:///Users/vrx/Library/Safari/AutoFillCorrections.db.\n",
      "Failed to acquire exclusive access to AutoFill corrections SQLite store at file:///Users/vrx/Library/Safari/AutoFillCorrections.db.\n",
      "Failed to acquire exclusive access to AutoFill corrections SQLite store at file:///Users/vrx/Library/Safari/AutoFillCorrections.db.\n",
      "Failed to acquire exclusive access to AutoFill corrections SQLite store at file:///Users/vrx/Library/Safari/AutoFillCorrections.db.\n",
      "Failed to acquire exclusive access to AutoFill corrections SQLite store at file:///Users/vrx/Library/Safari/AutoFillCorrections.db.\n",
      "Failed to acquire exclusive access to AutoFill corrections SQLite store at file:///Users/vrx/Library/Safari/AutoFillCorrections.db.\n",
      "Failed to acquire exclusive access to AutoFill corrections SQLite store at file:///Users/vrx/Library/Safari/AutoFillCorrections.db.\n",
      "Failed to acquire exclusive access to AutoFill corrections SQLite store at file:///Users/vrx/Library/Safari/AutoFillCorrections.db.\n",
      "Failed to acquire exclusive access to AutoFill corrections SQLite store at file:///Users/vrx/Library/Safari/AutoFillCorrections.db.\n",
      "Failed to acquire exclusive access to AutoFill corrections SQLite store at file:///Users/vrx/Library/Safari/AutoFillCorrections.db.\n",
      "Failed to acquire exclusive access to AutoFill corrections SQLite store at file:///Users/vrx/Library/Safari/AutoFillCorrections.db.\n",
      "Failed to acquire exclusive access to AutoFill corrections SQLite store at file:///Users/vrx/Library/Safari/AutoFillCorrections.db.\n",
      "Failed to acquire exclusive access to AutoFill corrections SQLite store at file:///Users/vrx/Library/Safari/AutoFillCorrections.db.\n",
      "Failed to acquire exclusive access to AutoFill corrections SQLite store at file:///Users/vrx/Library/Safari/AutoFillCorrections.db.\n",
      "Failed to acquire exclusive access to AutoFill corrections SQLite store at file:///Users/vrx/Library/Safari/AutoFillCorrections.db.\n",
      "Failed to acquire exclusive access to AutoFill corrections SQLite store at file:///Users/vrx/Library/Safari/AutoFillCorrections.db.\n",
      "Failed to acquire exclusive access to AutoFill corrections SQLite store at file:///Users/vrx/Library/Safari/AutoFillCorrections.db.\n",
      "^C\n"
     ]
    }
   ],
   "source": [
    "!/Applications/Safari.app/Contents/MacOS/Safari larson_demo.gif"
   ]
  },
  {
   "cell_type": "code",
   "execution_count": 30,
   "metadata": {
    "collapsed": true
   },
   "outputs": [],
   "source": [
    "dl.metadata.search?"
   ]
  },
  {
   "cell_type": "code",
   "execution_count": null,
   "metadata": {
    "collapsed": true
   },
   "outputs": [],
   "source": []
  }
 ],
 "metadata": {
  "kernelspec": {
   "display_name": "Python 2",
   "language": "python",
   "name": "python2"
  },
  "language_info": {
   "codemirror_mode": {
    "name": "ipython",
    "version": 2
   },
   "file_extension": ".py",
   "mimetype": "text/x-python",
   "name": "python",
   "nbconvert_exporter": "python",
   "pygments_lexer": "ipython2",
   "version": "2.7.11"
  }
 },
 "nbformat": 4,
 "nbformat_minor": 0
}
