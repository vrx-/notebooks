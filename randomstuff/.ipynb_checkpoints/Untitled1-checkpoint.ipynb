{
 "cells": [
  {
   "cell_type": "code",
   "execution_count": 1,
   "metadata": {},
   "outputs": [],
   "source": [
    "import csv\n",
    "import numpy as np"
   ]
  },
  {
   "cell_type": "code",
   "execution_count": null,
   "metadata": {},
   "outputs": [],
   "source": [
    "path = '/Users/vrx/Downloads/Border_Crossing_Entry_Data.csv'"
   ]
  },
  {
   "cell_type": "code",
   "execution_count": null,
   "metadata": {},
   "outputs": [],
   "source": [
    "def get_data_dic(filename, fields):\n",
    "    data = { field : [] for field in fields }\n",
    "#     data = {'Border':[], 'Date':[], 'Measure':[], 'Value':[]}\n",
    "    with open(filename, mode='r') as csv_file:\n",
    "        csv_reader = csv.DictReader(csv_file)\n",
    "        for row in csv_reader:\n",
    "            for field in data:\n",
    "                data[field].append(row[field])\n",
    "    data['Value'] = list(map(int, data['Value']))\n",
    "    return data\n",
    "\n",
    "def get_idx(col):\n",
    "    col_opt = set(col)\n",
    "    indexes = {}\n",
    "    for opt in col_opt:\n",
    "        indexes[opt] = [i for i in range(len(col)) if col[i] == opt]\n",
    "    return indexes\n",
    "\n",
    "def get_indexes(data):\n",
    "    all_indexes = {}\n",
    "    for field in data:\n",
    "        if field is not 'Value':\n",
    "            all_indexes[field] = get_idx(data[field])\n",
    "    return all_indexes\n",
    "\n"
   ]
  },
  {
   "cell_type": "code",
   "execution_count": null,
   "metadata": {},
   "outputs": [],
   "source": [
    "class border_crossing:\n",
    "    def __init__(self, path, fields=['Date', 'Measure', 'Border', 'Value']):\n",
    "        self.filename = path\n",
    "        self.fields = fields\n",
    "        self.data = get_data_dic(filename, fields)\n",
    "        self.indexes = get_indexes(self.data)\n",
    "    def gen_report():\n",
    "        for d in self.fields[0]:\n",
    "            for m in self.fields[0]:\n",
    "                for b in self.fields[0]:\n",
    "                    msk = list(set(all_indexes['Border'][b]) & set(all_indexes['Date'][d]) & set(all_indexes['Measure'][m]))\n",
    "                    values = np.array(data['Value'])[msk]\n",
    "                    print(b, d, m, values.sum(), int(values.mean()))       "
   ]
  },
  {
   "cell_type": "code",
   "execution_count": null,
   "metadata": {},
   "outputs": [],
   "source": []
  },
  {
   "cell_type": "code",
   "execution_count": null,
   "metadata": {},
   "outputs": [],
   "source": []
  },
  {
   "cell_type": "code",
   "execution_count": null,
   "metadata": {},
   "outputs": [],
   "source": [
    "for d in all_indexes['Date']:\n",
    "    for m in all_indexes['Measure']:\n",
    "        for b in all_indexes['Border']:\n",
    "            msk = list(set(all_indexes['Border'][b]) & set(all_indexes['Date'][d]) & set(all_indexes['Measure'][m]))\n",
    "            values = np.array(data['Value'])[msk]\n",
    "            print(b, d, m, values.sum(), int(values.mean()))"
   ]
  },
  {
   "cell_type": "code",
   "execution_count": null,
   "metadata": {},
   "outputs": [],
   "source": [
    "data['Value']"
   ]
  },
  {
   "cell_type": "code",
   "execution_count": null,
   "metadata": {},
   "outputs": [],
   "source": []
  }
 ],
 "metadata": {
  "kernelspec": {
   "display_name": "Python 3",
   "language": "python",
   "name": "python3"
  },
  "language_info": {
   "codemirror_mode": {
    "name": "ipython",
    "version": 3
   },
   "file_extension": ".py",
   "mimetype": "text/x-python",
   "name": "python",
   "nbconvert_exporter": "python",
   "pygments_lexer": "ipython3",
   "version": "3.6.5"
  }
 },
 "nbformat": 4,
 "nbformat_minor": 2
}
