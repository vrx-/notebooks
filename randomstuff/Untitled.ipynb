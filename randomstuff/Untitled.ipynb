{
 "cells": [
  {
   "cell_type": "code",
   "execution_count": 1,
   "metadata": {},
   "outputs": [
    {
     "name": "stderr",
     "output_type": "stream",
     "text": [
      "/Users/vrx/miniconda3/envs/owl/lib/python3.6/site-packages/cmocean/tools.py:76: MatplotlibDeprecationWarning: The is_string_like function was deprecated in version 2.1.\n",
      "  if not mpl.cbook.is_string_like(rgbin[0]):\n"
     ]
    }
   ],
   "source": [
    "import xarray as xr\n",
    "import backgroung as bg\n",
    "import matplotlib.pyplot as plt\n",
    "import matplotlib.dates as mdates\n",
    "import numpy as np\n",
    "import cartopy.crs as ccrs\n",
    "import bgcalc_xr as bgcalc\n",
    "import cmocean as cm"
   ]
  },
  {
   "cell_type": "code",
   "execution_count": 2,
   "metadata": {},
   "outputs": [],
   "source": [
    "model_path = 'http://copano.tamu.edu:8080/thredds/dodsC/NcML/txla_hindcast_agg'\n",
    "ds = xr.open_dataset(model_path)"
   ]
  },
  {
   "cell_type": "code",
   "execution_count": 6,
   "metadata": {},
   "outputs": [
    {
     "name": "stdout",
     "output_type": "stream",
     "text": [
      "<xarray.DataArray ()>\n",
      "array(19526.99303898834) <xarray.DataArray ()>\n",
      "array(79441.383767252)\n",
      "<xarray.DataArray ()>\n",
      "array(9962.005625938564) <xarray.DataArray ()>\n",
      "array(40147.187164069655)\n",
      "<xarray.DataArray ()>\n",
      "array(5032.272047239942) <xarray.DataArray ()>\n",
      "array(20450.351628127126)\n",
      "<xarray.DataArray ()>\n",
      "array(516.2210762980782) <xarray.DataArray ()>\n",
      "array(2124.778436440571)\n",
      "<xarray.DataArray ()>\n",
      "array(49.53977221795978) <xarray.DataArray ()>\n",
      "array(204.36487221429854)\n",
      "<xarray.DataArray ()>\n",
      "array(4.948902571702891) <xarray.DataArray ()>\n",
      "array(20.44208017896111)\n"
     ]
    }
   ],
   "source": [
    "box_xl_rho = xr.zeros_like(ds.h, dtype=bool)\n",
    "box_xl_rho[70:140,264:376] = 1\n",
    "\n",
    "box_l_rho = xr.zeros_like(ds.h, dtype=bool)\n",
    "box_l_rho[71:141, 290:346] = 1\n",
    "box_l_psi = xr.zeros_like(ds.h, dtype=bool)\n",
    "\n",
    "box_m_rho = xr.zeros_like(ds.h, dtype=bool)\n",
    "box_m_rho[79:133, 300:337] = 1\n",
    "\n",
    "box_s_rho = xr.zeros_like(ds.h, dtype=bool)\n",
    "box_s_rho[98:114, 313:326] = 1\n",
    "\n",
    "box_xs_rho = xr.zeros_like(ds.h, dtype=bool)\n",
    "box_xs_rho[104:109, 318:322] = 1\n",
    "\n",
    "box_2c_rho = xr.zeros_like(ds.h, dtype=bool)\n",
    "box_2c_rho[106:108, 320] = 1\n",
    "\n",
    "dA = 1/(ds.pm*ds.pn)\n",
    "area_bxl = dA.where(box_xl_rho).sum()\n",
    "area_bl = dA.where(box_l_rho).sum()\n",
    "area_bm = dA.where(box_m_rho).sum()\n",
    "area_bs = dA.where(box_s_rho).sum()\n",
    "area_bxs = dA.where(box_xs_rho).sum()\n",
    "area_2c = dA.where(box_2c_rho).sum()\n",
    "\n",
    "print(area_bxl/1e6, (1./ds.pm.where(box_xl_rho)).sum(dim='xi_rho').mean())\n",
    "print(area_bl/1e6, (1./ds.pm.where(box_l_rho)).sum(dim='xi_rho').mean())\n",
    "print(area_bm/1e6, (1./ds.pm.where(box_m_rho)).sum(dim='xi_rho').mean())\n",
    "print(area_bs/1e6, (1./ds.pm.where(box_s_rho)).sum(dim='xi_rho').mean())\n",
    "print(area_bxs/1e6, (1./ds.pm.where(box_xs_rho)).sum(dim='xi_rho').mean())\n",
    "print(area_2c/1e6, (1./ds.pm.where(box_2c_rho)).sum(dim='xi_rho').mean())"
   ]
  },
  {
   "cell_type": "code",
   "execution_count": 16,
   "metadata": {},
   "outputs": [
    {
     "ename": "TypeError",
     "evalue": "where() missing 2 required positional arguments: 'x' and 'y'",
     "output_type": "error",
     "traceback": [
      "\u001b[0;31m---------------------------------------------------------------------------\u001b[0m",
      "\u001b[0;31mTypeError\u001b[0m                                 Traceback (most recent call last)",
      "\u001b[0;32m<ipython-input-16-1f6989eee9dd>\u001b[0m in \u001b[0;36m<module>\u001b[0;34m()\u001b[0m\n\u001b[0;32m----> 1\u001b[0;31m \u001b[0mxr\u001b[0m\u001b[0;34m.\u001b[0m\u001b[0mwhere\u001b[0m\u001b[0;34m(\u001b[0m\u001b[0;34m(\u001b[0m\u001b[0;36m1.\u001b[0m\u001b[0;34m/\u001b[0m\u001b[0mds\u001b[0m\u001b[0;34m.\u001b[0m\u001b[0mpm\u001b[0m\u001b[0;34m)\u001b[0m\u001b[0;34m.\u001b[0m\u001b[0mwhere\u001b[0m\u001b[0;34m(\u001b[0m\u001b[0mbox_xl_rho\u001b[0m\u001b[0;34m)\u001b[0m\u001b[0;34m.\u001b[0m\u001b[0msum\u001b[0m\u001b[0;34m(\u001b[0m\u001b[0mdim\u001b[0m\u001b[0;34m=\u001b[0m\u001b[0;34m'xi_rho'\u001b[0m\u001b[0;34m)\u001b[0m\u001b[0;34m>\u001b[0m\u001b[0;36m0.\u001b[0m\u001b[0;34m)\u001b[0m\u001b[0;34m\u001b[0m\u001b[0m\n\u001b[0m",
      "\u001b[0;31mTypeError\u001b[0m: where() missing 2 required positional arguments: 'x' and 'y'"
     ]
    }
   ],
   "source": [
    "xr.where((1./ds.pm).where(box_xl_rho).sum(dim='xi_rho')>0.)"
   ]
  },
  {
   "cell_type": "code",
   "execution_count": null,
   "metadata": {},
   "outputs": [],
   "source": [
    "hmin = 12.\n",
    "hmax = 50.\n",
    "mab = 10.\n",
    "\n",
    "lonl = -95\n",
    "lonr = -91\n",
    "latl = 28.\n",
    "latu = 29.6\n",
    "\n",
    "mask =(ds.h>=hmin)&(ds.h<=hmax)& \\\n",
    "    (ds.coords['lon_rho']>=lonl)&(ds.coords['lon_rho']<=lonr)& \\\n",
    "    (ds.coords['lat_rho']>=latl)& (ds['lat_rho'] < latu)& \\\n",
    "    (ds.mask_rho==1)\n",
    "mask[161:166,274:279]=False\n",
    "ds.coords['mask2D'] = (('eta_rho', 'xi_rho'), mask)\n",
    "ds = ds.sel(ocean_time=slice(\"2010-08-01T00:00:00\", \"2010-09-30T23:30:00\"))\n",
    "budget = bgcalc_xr.Calculator(ds)\n"
   ]
  },
  {
   "cell_type": "code",
   "execution_count": null,
   "metadata": {},
   "outputs": [],
   "source": [
    "tidx = 0\n",
    "budget.subset(tidx)"
   ]
  },
  {
   "cell_type": "code",
   "execution_count": null,
   "metadata": {},
   "outputs": [],
   "source": [
    "i_mx = budget.integ_matrix()\n",
    "rate = budget.integrate(budget.get_rate(), i_mx = i_mx)\n",
    "SOD = budget.get_SOD()\n",
    "uOxadv,vOxadv = budget.get_inthadv()\n",
    "hadv = budget.integrate(uOxadv + vOxadv, i_mx=i_mx)\n",
    "vadv = budget.get_advflux_z()\n",
    "vdiff = budget.get_difflux_z(btm_diff=SOD)"
   ]
  },
  {
   "cell_type": "code",
   "execution_count": null,
   "metadata": {},
   "outputs": [],
   "source": [
    "new_ds = xr.Dataset({'rate': rate, 'hadv': hadv, 'vadv': vadv, 'vdiff': vdiff, 'SOD': SOD})\n",
    "new_ds.to_netcdf('calc_bg_'+ str(new_ds.ocean_time.data)[:13] + '.nc')"
   ]
  },
  {
   "cell_type": "code",
   "execution_count": null,
   "metadata": {},
   "outputs": [],
   "source": []
  }
 ],
 "metadata": {
  "kernelspec": {
   "display_name": "Python 3",
   "language": "python",
   "name": "python3"
  },
  "language_info": {
   "codemirror_mode": {
    "name": "ipython",
    "version": 3
   },
   "file_extension": ".py",
   "mimetype": "text/x-python",
   "name": "python",
   "nbconvert_exporter": "python",
   "pygments_lexer": "ipython3",
   "version": "3.6.5"
  }
 },
 "nbformat": 4,
 "nbformat_minor": 2
}
