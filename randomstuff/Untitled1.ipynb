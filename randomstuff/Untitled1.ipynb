{
 "cells": [
  {
   "cell_type": "code",
   "execution_count": null,
   "metadata": {},
   "outputs": [],
   "source": [
    "import csv\n",
    "import numpy as np"
   ]
  },
  {
   "cell_type": "code",
   "execution_count": 2,
   "metadata": {},
   "outputs": [],
   "source": [
    "path = '/Users/vrx/Downloads/Border_Crossing_Entry_Data.csv'\n",
    "path = '/Users/vrx/tutorials/border-crossing-analysis/insight_testsuite/tests/test_1/input/Border_Crossing_Entry_Data.csv'"
   ]
  },
  {
   "cell_type": "code",
   "execution_count": 3,
   "metadata": {},
   "outputs": [],
   "source": [
    "def get_data_dic(filename, fields=['Date', 'Measure', 'Border', 'Value']):\n",
    "    data = { field : [] for field in fields }\n",
    "    with open(filename, mode='r') as csv_file:\n",
    "        csv_reader = csv.DictReader(csv_file)\n",
    "        for row in csv_reader:\n",
    "            for field in data:\n",
    "                data[field].append(row[field])\n",
    "    data['Value'] = list(map(int, data['Value']))\n",
    "    return data\n",
    "\n",
    "def filter_by(data, field, opt): \n",
    "    idx = [i for i in range(len(data[field])) if data[field][i] == opt]\n",
    "    return { f:[data[f][i] for i in idx] for f in data }\n",
    "\n",
    "# def mean_by(data, field):\n",
    "#     options = set(data[field])\n",
    "#     means = [filter_by(data, field, opt)['Value'].mean() for opt in options]\n",
    "#     return dict(zip(options, means))\n",
    "\n",
    "\n",
    "# def sum_by(data, field):\n",
    "#     indices = [[i for i in range(len(data[field])) if data[field][i] == opt] for opt in data[field]]    \n",
    "#     return [data['Value'][idx].sum() for idx in indices]\n",
    "\n",
    "def gen_report(data):\n",
    "    for d in data['Date']:\n",
    "        data_1 = filter_by(data, 'Date', d)\n",
    "        for m in data['Measure']:\n",
    "            data_2 = filter_by(data_1, 'Measure', m)\n",
    "            borders = set(data_2['Border'])\n",
    "            values = [filter_by(data, 'Border', b)['Value'] for b in borders]            \n",
    "            values_sum = [sum(v) for v in values]\n",
    "            values_mean = [int(sum(v)/len(v)) for v in values]\n",
    "            for vsum, vmean, b in sorted(zip(values_sum, values_mean, borders)):\n",
    "                print(b, d, m, vsum, vmean)\n",
    "                    \n",
    "# def get_idx(col):\n",
    "#     col_opt = set(col)\n",
    "#     indexes = {}\n",
    "#     for opt in col_opt:\n",
    "#         indexes[opt] = [i for i in range(len(col)) if col[i] == opt]\n",
    "#     return indexes\n",
    "\n",
    "# def get_indexes(data):\n",
    "#     all_indexes = {}\n",
    "#     for field in data:\n",
    "#         if field is not 'Value':\n",
    "#             all_indexes[field] = get_idx(data[field])\n",
    "#     return all_indexes\n",
    "\n"
   ]
  },
  {
   "cell_type": "code",
   "execution_count": 4,
   "metadata": {},
   "outputs": [],
   "source": [
    "data = get_data_dic(path)"
   ]
  },
  {
   "cell_type": "code",
   "execution_count": 5,
   "metadata": {},
   "outputs": [
    {
     "name": "stdout",
     "output_type": "stream",
     "text": [
      "US-Canada Border 03/01/2019 12:00:00 AM Truck Containers Full 7821 2607\n",
      "US-Canada Border 03/01/2019 12:00:00 AM Trains 7821 2607\n",
      "US-Mexico Border 03/01/2019 12:00:00 AM Pedestrians 575131 143782\n",
      "US-Mexico Border 03/01/2019 12:00:00 AM Pedestrians 575131 143782\n",
      "US-Mexico Border 03/01/2019 12:00:00 AM Pedestrians 575131 143782\n",
      "US-Mexico Border 03/01/2019 12:00:00 AM Pedestrians 575131 143782\n",
      "US-Canada Border 03/01/2019 12:00:00 AM Truck Containers Full 7821 2607\n",
      "US-Canada Border 03/01/2019 12:00:00 AM Trains 7821 2607\n",
      "US-Mexico Border 03/01/2019 12:00:00 AM Pedestrians 575131 143782\n",
      "US-Mexico Border 03/01/2019 12:00:00 AM Pedestrians 575131 143782\n",
      "US-Mexico Border 03/01/2019 12:00:00 AM Pedestrians 575131 143782\n",
      "US-Mexico Border 03/01/2019 12:00:00 AM Pedestrians 575131 143782\n",
      "US-Canada Border 03/01/2019 12:00:00 AM Truck Containers Full 7821 2607\n",
      "US-Canada Border 03/01/2019 12:00:00 AM Trains 7821 2607\n",
      "US-Mexico Border 03/01/2019 12:00:00 AM Pedestrians 575131 143782\n",
      "US-Mexico Border 03/01/2019 12:00:00 AM Pedestrians 575131 143782\n",
      "US-Mexico Border 03/01/2019 12:00:00 AM Pedestrians 575131 143782\n",
      "US-Mexico Border 03/01/2019 12:00:00 AM Pedestrians 575131 143782\n",
      "US-Mexico Border 02/01/2019 12:00:00 AM Pedestrians 575131 143782\n",
      "US-Mexico Border 02/01/2019 12:00:00 AM Pedestrians 575131 143782\n",
      "US-Canada Border 02/01/2019 12:00:00 AM Truck Containers Empty 7821 2607\n",
      "US-Mexico Border 02/01/2019 12:00:00 AM Pedestrians 575131 143782\n",
      "US-Mexico Border 02/01/2019 12:00:00 AM Pedestrians 575131 143782\n",
      "US-Mexico Border 02/01/2019 12:00:00 AM Pedestrians 575131 143782\n",
      "US-Mexico Border 02/01/2019 12:00:00 AM Pedestrians 575131 143782\n",
      "US-Canada Border 02/01/2019 12:00:00 AM Truck Containers Empty 7821 2607\n",
      "US-Mexico Border 02/01/2019 12:00:00 AM Pedestrians 575131 143782\n",
      "US-Mexico Border 02/01/2019 12:00:00 AM Pedestrians 575131 143782\n",
      "US-Mexico Border 02/01/2019 12:00:00 AM Pedestrians 575131 143782\n",
      "US-Mexico Border 02/01/2019 12:00:00 AM Pedestrians 575131 143782\n",
      "US-Canada Border 02/01/2019 12:00:00 AM Truck Containers Empty 7821 2607\n",
      "US-Mexico Border 02/01/2019 12:00:00 AM Pedestrians 575131 143782\n",
      "US-Mexico Border 02/01/2019 12:00:00 AM Pedestrians 575131 143782\n",
      "US-Mexico Border 01/01/2019 12:00:00 AM Pedestrians 575131 143782\n",
      "US-Mexico Border 01/01/2019 12:00:00 AM Pedestrians 575131 143782\n",
      "US-Mexico Border 01/01/2019 12:00:00 AM Pedestrians 575131 143782\n",
      "US-Mexico Border 01/01/2019 12:00:00 AM Pedestrians 575131 143782\n"
     ]
    }
   ],
   "source": [
    "gen_report(data)"
   ]
  },
  {
   "cell_type": "code",
   "execution_count": 6,
   "metadata": {},
   "outputs": [
    {
     "ename": "AttributeError",
     "evalue": "'dict' object has no attribute 'sum'",
     "output_type": "error",
     "traceback": [
      "\u001b[0;31m---------------------------------------------------------------------------\u001b[0m",
      "\u001b[0;31mAttributeError\u001b[0m                            Traceback (most recent call last)",
      "\u001b[0;32m<ipython-input-6-09616cab1bc1>\u001b[0m in \u001b[0;36m<module>\u001b[0;34m()\u001b[0m\n\u001b[1;32m      4\u001b[0m         \u001b[0mdata_2\u001b[0m \u001b[0;34m=\u001b[0m \u001b[0mfilter_by\u001b[0m\u001b[0;34m(\u001b[0m\u001b[0mdata_1\u001b[0m\u001b[0;34m,\u001b[0m \u001b[0;34m'Measure'\u001b[0m\u001b[0;34m,\u001b[0m \u001b[0mm\u001b[0m\u001b[0;34m)\u001b[0m\u001b[0;34m\u001b[0m\u001b[0m\n\u001b[1;32m      5\u001b[0m         \u001b[0mborders\u001b[0m\u001b[0;34m,\u001b[0m \u001b[0mvalues\u001b[0m \u001b[0;34m=\u001b[0m \u001b[0mzip\u001b[0m\u001b[0;34m(\u001b[0m\u001b[0;34m*\u001b[0m\u001b[0;34m[\u001b[0m\u001b[0;34m[\u001b[0m\u001b[0mb\u001b[0m\u001b[0;34m,\u001b[0m \u001b[0mfilter_by\u001b[0m\u001b[0;34m(\u001b[0m\u001b[0mdata_2\u001b[0m\u001b[0;34m,\u001b[0m \u001b[0;34m'Border'\u001b[0m\u001b[0;34m,\u001b[0m \u001b[0mb\u001b[0m\u001b[0;34m)\u001b[0m\u001b[0;34m]\u001b[0m \u001b[0;32mfor\u001b[0m \u001b[0mb\u001b[0m \u001b[0;32min\u001b[0m \u001b[0mdata_2\u001b[0m\u001b[0;34m[\u001b[0m\u001b[0;34m'Border'\u001b[0m\u001b[0;34m]\u001b[0m\u001b[0;34m]\u001b[0m\u001b[0;34m)\u001b[0m\u001b[0;34m\u001b[0m\u001b[0m\n\u001b[0;32m----> 6\u001b[0;31m         \u001b[0mvalues_sum\u001b[0m \u001b[0;34m=\u001b[0m \u001b[0;34m[\u001b[0m\u001b[0mv\u001b[0m\u001b[0;34m.\u001b[0m\u001b[0msum\u001b[0m\u001b[0;34m(\u001b[0m\u001b[0;34m)\u001b[0m \u001b[0;32mfor\u001b[0m \u001b[0mv\u001b[0m \u001b[0;32min\u001b[0m \u001b[0mvalues\u001b[0m\u001b[0;34m]\u001b[0m\u001b[0;34m\u001b[0m\u001b[0m\n\u001b[0m\u001b[1;32m      7\u001b[0m         \u001b[0mvalues_mean\u001b[0m \u001b[0;34m=\u001b[0m \u001b[0;34m[\u001b[0m\u001b[0mv\u001b[0m\u001b[0;34m.\u001b[0m\u001b[0mmean\u001b[0m\u001b[0;34m(\u001b[0m\u001b[0;34m)\u001b[0m \u001b[0;32mfor\u001b[0m \u001b[0mv\u001b[0m \u001b[0;32min\u001b[0m \u001b[0mvalues\u001b[0m\u001b[0;34m]\u001b[0m\u001b[0;34m\u001b[0m\u001b[0m\n\u001b[1;32m      8\u001b[0m         \u001b[0msort\u001b[0m \u001b[0;34m=\u001b[0m \u001b[0mzip\u001b[0m\u001b[0;34m(\u001b[0m\u001b[0;34m*\u001b[0m\u001b[0msorted\u001b[0m\u001b[0;34m(\u001b[0m\u001b[0mzip\u001b[0m\u001b[0;34m(\u001b[0m\u001b[0mvalues_sum\u001b[0m\u001b[0;34m,\u001b[0m \u001b[0mvalues_mean\u001b[0m\u001b[0;34m,\u001b[0m\u001b[0mborders\u001b[0m\u001b[0;34m)\u001b[0m\u001b[0;34m)\u001b[0m\u001b[0;34m)\u001b[0m\u001b[0;34m\u001b[0m\u001b[0m\n",
      "\u001b[0;32m<ipython-input-6-09616cab1bc1>\u001b[0m in \u001b[0;36m<listcomp>\u001b[0;34m(.0)\u001b[0m\n\u001b[1;32m      4\u001b[0m         \u001b[0mdata_2\u001b[0m \u001b[0;34m=\u001b[0m \u001b[0mfilter_by\u001b[0m\u001b[0;34m(\u001b[0m\u001b[0mdata_1\u001b[0m\u001b[0;34m,\u001b[0m \u001b[0;34m'Measure'\u001b[0m\u001b[0;34m,\u001b[0m \u001b[0mm\u001b[0m\u001b[0;34m)\u001b[0m\u001b[0;34m\u001b[0m\u001b[0m\n\u001b[1;32m      5\u001b[0m         \u001b[0mborders\u001b[0m\u001b[0;34m,\u001b[0m \u001b[0mvalues\u001b[0m \u001b[0;34m=\u001b[0m \u001b[0mzip\u001b[0m\u001b[0;34m(\u001b[0m\u001b[0;34m*\u001b[0m\u001b[0;34m[\u001b[0m\u001b[0;34m[\u001b[0m\u001b[0mb\u001b[0m\u001b[0;34m,\u001b[0m \u001b[0mfilter_by\u001b[0m\u001b[0;34m(\u001b[0m\u001b[0mdata_2\u001b[0m\u001b[0;34m,\u001b[0m \u001b[0;34m'Border'\u001b[0m\u001b[0;34m,\u001b[0m \u001b[0mb\u001b[0m\u001b[0;34m)\u001b[0m\u001b[0;34m]\u001b[0m \u001b[0;32mfor\u001b[0m \u001b[0mb\u001b[0m \u001b[0;32min\u001b[0m \u001b[0mdata_2\u001b[0m\u001b[0;34m[\u001b[0m\u001b[0;34m'Border'\u001b[0m\u001b[0;34m]\u001b[0m\u001b[0;34m]\u001b[0m\u001b[0;34m)\u001b[0m\u001b[0;34m\u001b[0m\u001b[0m\n\u001b[0;32m----> 6\u001b[0;31m         \u001b[0mvalues_sum\u001b[0m \u001b[0;34m=\u001b[0m \u001b[0;34m[\u001b[0m\u001b[0mv\u001b[0m\u001b[0;34m.\u001b[0m\u001b[0msum\u001b[0m\u001b[0;34m(\u001b[0m\u001b[0;34m)\u001b[0m \u001b[0;32mfor\u001b[0m \u001b[0mv\u001b[0m \u001b[0;32min\u001b[0m \u001b[0mvalues\u001b[0m\u001b[0;34m]\u001b[0m\u001b[0;34m\u001b[0m\u001b[0m\n\u001b[0m\u001b[1;32m      7\u001b[0m         \u001b[0mvalues_mean\u001b[0m \u001b[0;34m=\u001b[0m \u001b[0;34m[\u001b[0m\u001b[0mv\u001b[0m\u001b[0;34m.\u001b[0m\u001b[0mmean\u001b[0m\u001b[0;34m(\u001b[0m\u001b[0;34m)\u001b[0m \u001b[0;32mfor\u001b[0m \u001b[0mv\u001b[0m \u001b[0;32min\u001b[0m \u001b[0mvalues\u001b[0m\u001b[0;34m]\u001b[0m\u001b[0;34m\u001b[0m\u001b[0m\n\u001b[1;32m      8\u001b[0m         \u001b[0msort\u001b[0m \u001b[0;34m=\u001b[0m \u001b[0mzip\u001b[0m\u001b[0;34m(\u001b[0m\u001b[0;34m*\u001b[0m\u001b[0msorted\u001b[0m\u001b[0;34m(\u001b[0m\u001b[0mzip\u001b[0m\u001b[0;34m(\u001b[0m\u001b[0mvalues_sum\u001b[0m\u001b[0;34m,\u001b[0m \u001b[0mvalues_mean\u001b[0m\u001b[0;34m,\u001b[0m\u001b[0mborders\u001b[0m\u001b[0;34m)\u001b[0m\u001b[0;34m)\u001b[0m\u001b[0;34m)\u001b[0m\u001b[0;34m\u001b[0m\u001b[0m\n",
      "\u001b[0;31mAttributeError\u001b[0m: 'dict' object has no attribute 'sum'"
     ]
    }
   ],
   "source": [
    "for d in data['Date']:\n",
    "    data_1 = filter_by(data, 'Date', d)\n",
    "    for m in data['Measure']:\n",
    "        data_2 = filter_by(data_1, 'Measure', m)\n",
    "        borders, values = zip(*[[b, filter_by(data_2, 'Border', b)] for b in data_2['Border']])\n",
    "        values_sum = [v.sum() for v in values]\n",
    "        values_mean = [v.mean() for v in values]\n",
    "        sort = zip(*sorted(zip(values_sum, values_mean,borders)))\n",
    "        for vsum, vmean, b in zip(*sorted(zip(values_sum, values_mean,borders))):\n",
    "            print(b, d, m, int(vsum), int(vmean))"
   ]
  },
  {
   "cell_type": "code",
   "execution_count": 11,
   "metadata": {},
   "outputs": [
    {
     "data": {
      "text/plain": [
       "{'Date': ['03/01/2019 12:00:00 AM',\n",
       "  '03/01/2019 12:00:00 AM',\n",
       "  '03/01/2019 12:00:00 AM'],\n",
       " 'Measure': ['Truck Containers Full', 'Trains', 'Pedestrians'],\n",
       " 'Border': ['US-Canada Border', 'US-Canada Border', 'US-Mexico Border'],\n",
       " 'Value': [6483, 19, 346158]}"
      ]
     },
     "execution_count": 11,
     "metadata": {},
     "output_type": "execute_result"
    }
   ],
   "source": [
    "data_1 = filter_by(data, 'Date', '03/01/2019 12:00:00 AM')\n",
    "data_2 = filter_by(data_1, 'Measure', m)"
   ]
  },
  {
   "cell_type": "code",
   "execution_count": 7,
   "metadata": {},
   "outputs": [
    {
     "name": "stdout",
     "output_type": "stream",
     "text": [
      "US-Canada Border 03/01/2019 12:00:00 AM Truck Containers Full 7821 2607\n",
      "US-Canada Border 03/01/2019 12:00:00 AM Trains 7821 2607\n",
      "US-Mexico Border 03/01/2019 12:00:00 AM Pedestrians 575131 143782\n",
      "US-Mexico Border 03/01/2019 12:00:00 AM Pedestrians 575131 143782\n",
      "US-Mexico Border 03/01/2019 12:00:00 AM Pedestrians 575131 143782\n",
      "US-Mexico Border 03/01/2019 12:00:00 AM Pedestrians 575131 143782\n",
      "US-Canada Border 03/01/2019 12:00:00 AM Truck Containers Full 7821 2607\n",
      "US-Canada Border 03/01/2019 12:00:00 AM Trains 7821 2607\n",
      "US-Mexico Border 03/01/2019 12:00:00 AM Pedestrians 575131 143782\n",
      "US-Mexico Border 03/01/2019 12:00:00 AM Pedestrians 575131 143782\n",
      "US-Mexico Border 03/01/2019 12:00:00 AM Pedestrians 575131 143782\n",
      "US-Mexico Border 03/01/2019 12:00:00 AM Pedestrians 575131 143782\n",
      "US-Canada Border 03/01/2019 12:00:00 AM Truck Containers Full 7821 2607\n",
      "US-Canada Border 03/01/2019 12:00:00 AM Trains 7821 2607\n",
      "US-Mexico Border 03/01/2019 12:00:00 AM Pedestrians 575131 143782\n",
      "US-Mexico Border 03/01/2019 12:00:00 AM Pedestrians 575131 143782\n",
      "US-Mexico Border 03/01/2019 12:00:00 AM Pedestrians 575131 143782\n",
      "US-Mexico Border 03/01/2019 12:00:00 AM Pedestrians 575131 143782\n",
      "US-Mexico Border 02/01/2019 12:00:00 AM Pedestrians 575131 143782\n",
      "US-Mexico Border 02/01/2019 12:00:00 AM Pedestrians 575131 143782\n",
      "US-Canada Border 02/01/2019 12:00:00 AM Truck Containers Empty 7821 2607\n",
      "US-Mexico Border 02/01/2019 12:00:00 AM Pedestrians 575131 143782\n",
      "US-Mexico Border 02/01/2019 12:00:00 AM Pedestrians 575131 143782\n",
      "US-Mexico Border 02/01/2019 12:00:00 AM Pedestrians 575131 143782\n",
      "US-Mexico Border 02/01/2019 12:00:00 AM Pedestrians 575131 143782\n",
      "US-Canada Border 02/01/2019 12:00:00 AM Truck Containers Empty 7821 2607\n",
      "US-Mexico Border 02/01/2019 12:00:00 AM Pedestrians 575131 143782\n",
      "US-Mexico Border 02/01/2019 12:00:00 AM Pedestrians 575131 143782\n",
      "US-Mexico Border 02/01/2019 12:00:00 AM Pedestrians 575131 143782\n",
      "US-Mexico Border 02/01/2019 12:00:00 AM Pedestrians 575131 143782\n",
      "US-Canada Border 02/01/2019 12:00:00 AM Truck Containers Empty 7821 2607\n",
      "US-Mexico Border 02/01/2019 12:00:00 AM Pedestrians 575131 143782\n",
      "US-Mexico Border 02/01/2019 12:00:00 AM Pedestrians 575131 143782\n",
      "US-Mexico Border 01/01/2019 12:00:00 AM Pedestrians 575131 143782\n",
      "US-Mexico Border 01/01/2019 12:00:00 AM Pedestrians 575131 143782\n",
      "US-Mexico Border 01/01/2019 12:00:00 AM Pedestrians 575131 143782\n",
      "US-Mexico Border 01/01/2019 12:00:00 AM Pedestrians 575131 143782\n"
     ]
    }
   ],
   "source": [
    "for d in data['Date']:\n",
    "    data_1 = filter_by(data, 'Date', d)\n",
    "    for m in data['Measure']:\n",
    "        data_2 = filter_by(data_1, 'Measure', m)\n",
    "        borders = set(data_2['Border'])\n",
    "        values = [filter_by(data, 'Border', b)['Value'] for b in borders]            \n",
    "        values_sum = [sum(v) for v in values]\n",
    "        values_mean = [int(sum(v)/len(v)) for v in values]\n",
    "        for vsum, vmean, b in sorted(zip(values_sum, values_mean, borders)):\n",
    "            print(b, d, m, vsum, vmean)"
   ]
  },
  {
   "cell_type": "code",
   "execution_count": null,
   "metadata": {},
   "outputs": [],
   "source": [
    "class border_crossing:\n",
    "    def __init__(self, path, fields=['Date', 'Measure', 'Border', 'Value']):\n",
    "        self.filename = path\n",
    "        self.fields = fields\n",
    "        self.data = get_data_dic(filename, fields)\n",
    "        self.indexes = get_indexes(self.data)\n",
    "        \n",
    "    def filter_by(self, field, opt):\n",
    "        filtered = \n",
    "        idx = [i for i in range(len(self.data[field])) if self.data[field] == opt]\n",
    "        droped = self.fields.drop[field]\n",
    "        return { f:self.data[f][idx] for f in droped }\n",
    "        \n",
    "    def gen_report(self):\n",
    "        for opt in self.data['Date']:\n",
    "            data_1 = data.filter_by(field, opt)\n",
    "            for m in self.data['Measure']:\n",
    "                data_2 = \n",
    "                for b in self.indexes[self.fields[2]]:\n",
    "                    msk = list(set(self.indexes[self.fields[0]]) & \n",
    "                               set(self.indexes[self.fields[1]]) & \n",
    "                               set(self.indexes[self.fields[2]]))\n",
    "                    values = np.array(seld.data['Value'])[msk]\n",
    "                    print(b, d, m, values.sum(), int(values.mean()))       "
   ]
  },
  {
   "cell_type": "code",
   "execution_count": null,
   "metadata": {},
   "outputs": [],
   "source": []
  },
  {
   "cell_type": "code",
   "execution_count": null,
   "metadata": {},
   "outputs": [],
   "source": [
    "for i in range(10-1, -1):\n",
    "    print(i)"
   ]
  },
  {
   "cell_type": "code",
   "execution_count": null,
   "metadata": {},
   "outputs": [],
   "source": [
    "for d in all_indexes['Date']:\n",
    "    for m in all_indexes['Measure']:\n",
    "        for b in all_indexes['Border']:\n",
    "            msk = list(set(all_indexes['Border'][b]) & set(all_indexes['Date'][d]) & set(all_indexes['Measure'][m]))\n",
    "            values = np.array(data['Value'])[msk]\n",
    "            print(b, d, m, values.sum(), int(values.mean()))"
   ]
  },
  {
   "cell_type": "code",
   "execution_count": null,
   "metadata": {},
   "outputs": [],
   "source": [
    "data['Value']"
   ]
  },
  {
   "cell_type": "code",
   "execution_count": null,
   "metadata": {},
   "outputs": [],
   "source": [
    "values_sum = [d[1].sum() for d in data_3]"
   ]
  }
 ],
 "metadata": {
  "kernelspec": {
   "display_name": "Python 3",
   "language": "python",
   "name": "python3"
  },
  "language_info": {
   "codemirror_mode": {
    "name": "ipython",
    "version": 3
   },
   "file_extension": ".py",
   "mimetype": "text/x-python",
   "name": "python",
   "nbconvert_exporter": "python",
   "pygments_lexer": "ipython3",
   "version": "3.6.5"
  }
 },
 "nbformat": 4,
 "nbformat_minor": 2
}
