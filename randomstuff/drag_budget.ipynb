{
 "cells": [
  {
   "cell_type": "code",
   "execution_count": 1,
   "metadata": {},
   "outputs": [],
   "source": [
    "import xarray as xr\n",
    "import bgcalc_xr as bgcalc"
   ]
  },
  {
   "cell_type": "code",
   "execution_count": 2,
   "metadata": {},
   "outputs": [],
   "source": [
    "def set_model(model_path):\n",
    "    ds = xr.open_dataset(model_path)\n",
    "    hmin = 12.\n",
    "    hmax = 50.\n",
    "\n",
    "    lonl = -95\n",
    "    lonr = -91\n",
    "    latl = 28.\n",
    "    latu = 29.6\n",
    "\n",
    "    mask = (ds.h >= hmin) & (ds.h <= hmax) & \\\n",
    "        (ds.coords['lon_rho'] >= lonl) & (ds.coords['lon_rho'] <= lonr) & \\\n",
    "        (ds.coords['lat_rho'] >= latl) & (ds['lat_rho'] < latu) & \\\n",
    "        (ds.mask_rho == 1)\n",
    "    mask[161:166, 274:279] = False\n",
    "    ds.coords['mask2D'] = (('eta_rho', 'xi_rho'), mask)\n",
    "    ds = ds.sel(ocean_time=slice(\"2010-08-01T00:00:00\", \"2010-09-30T23:30:00\"))\n",
    "    return bgcalc.Calculator(ds)\n",
    "\n",
    "\n",
    "def extract(tidx):\n",
    "    budget.subset(tidx)\n",
    "    i_mx = budget.integ_matrix()\n",
    "    dV = budget.dA * budget.dz_rho * i_mx\n",
    "    print('loading')\n",
    "    rate = diag['dye_01_rate'].isel(ocean_time=tidx).where(budget.ROI)\n",
    "    hadv = diag['dye_01_hadv'].isel(ocean_time=tidx).where(budget.ROI)\n",
    "    vadv = diag['dye_01_vadv'].isel(ocean_time=tidx).where(budget.ROI)\n",
    "    vdiff = diag['dye_01_vdiff'].isel(ocean_time=tidx).where(budget.ROI)\n",
    "\n",
    "    rate_vol = (rate * dV).sum(dim='s_rho')\n",
    "    hadv_vol = (hadv * dV).sum(dim='s_rho')\n",
    "    vadv_vol = (vadv * dV).sum(dim='s_rho')\n",
    "    vdiff_vol = (vdiff * dV).sum(dim='s_rho')\n",
    "    return dV, rate_vol, hadv_vol, vadv_vol, vdiff_vol\n",
    "\n",
    "\n",
    "def run_file(budget, diag):\n",
    "    steps = len(diag.ocean_time)\n",
    "    print('starting iterations')\n",
    "    for tidx in range(steps):\n",
    "        print(tidx)\n",
    "        try:\n",
    "            dV, rate, hadv, vadv, vdiff = extract(tidx)\n",
    "            if tidx == 0:\n",
    "                print('initializing tsteps: ' + str(tidx))\n",
    "                rate_vol = rate\n",
    "                hadv_vol = hadv\n",
    "                vadv_vol = vadv\n",
    "                vdiff_vol = vdiff\n",
    "            else:\n",
    "                print('filling:' + str(tidx))\n",
    "                print('rate')\n",
    "                rate_vol = xr.concat([rate_vol, (rate * dV).sum(axis=0)], 'ocean_time')\n",
    "                print('hadv')\n",
    "                hadv_vol = xr.concat([hadv_vol, (hadv * dV).sum(axis=0)], 'ocean_time')\n",
    "                print('vadv')\n",
    "                vadv_vol = xr.concat([vadv_vol, (vadv * dV).sum(axis=0)], 'ocean_time')\n",
    "                print('vdiff')\n",
    "                vdiff_vol = xr.concat([vdiff_vol, (vdiff * dV).sum(axis=0)], 'ocean_time')\n",
    "            print('filled tstep ' + str(tidx))\n",
    "        except BaseException:\n",
    "            print('conection droped at ' + str(tidx))\n",
    "    new_ds = xr.Dataset({'rate': rate_vol, 'hadv': hadv_vol, 'vadv': vadv_vol, 'vdiff': vdiff_vol})\n",
    "    new_ds.to_netcdf('diag_budget_08_2010.nc')"
   ]
  },
  {
   "cell_type": "code",
   "execution_count": 3,
   "metadata": {},
   "outputs": [
    {
     "name": "stderr",
     "output_type": "stream",
     "text": [
      "/Users/vrx/miniconda3/envs/owl/lib/python3.6/_collections_abc.py:720: FutureWarning: iteration over an xarray.Dataset will change in xarray v0.11 to only include data variables, not coordinates. Iterate over the Dataset.variables property instead to preserve existing behavior in a forwards compatible manner.\n",
      "  yield from self._mapping\n"
     ]
    },
    {
     "ename": "OSError",
     "evalue": "no files to open",
     "output_type": "error",
     "traceback": [
      "\u001b[0;31m---------------------------------------------------------------------------\u001b[0m",
      "\u001b[0;31mOSError\u001b[0m                                   Traceback (most recent call last)",
      "\u001b[0;32m<ipython-input-3-145f934784eb>\u001b[0m in \u001b[0;36m<module>\u001b[0;34m()\u001b[0m\n\u001b[1;32m      1\u001b[0m \u001b[0mbudget\u001b[0m \u001b[0;34m=\u001b[0m \u001b[0mset_model\u001b[0m\u001b[0;34m(\u001b[0m\u001b[0;34m'http://copano.tamu.edu:8080/thredds/dodsC/NcML/txla_hindcast_agg'\u001b[0m\u001b[0;34m)\u001b[0m\u001b[0;34m\u001b[0m\u001b[0m\n\u001b[0;32m----> 2\u001b[0;31m \u001b[0mdiag\u001b[0m \u001b[0;34m=\u001b[0m \u001b[0mxr\u001b[0m\u001b[0;34m.\u001b[0m\u001b[0mopen_mfdataset\u001b[0m\u001b[0;34m(\u001b[0m\u001b[0;34m'/copano/d1/shared/tmp/TXLA_ROMS/2010_diag/ocean_dia*.nc'\u001b[0m\u001b[0;34m)\u001b[0m\u001b[0;34m\u001b[0m\u001b[0m\n\u001b[0m",
      "\u001b[0;32m~/miniconda3/envs/owl/lib/python3.6/site-packages/xarray/backends/api.py\u001b[0m in \u001b[0;36mopen_mfdataset\u001b[0;34m(paths, chunks, concat_dim, compat, preprocess, engine, lock, data_vars, coords, **kwargs)\u001b[0m\n\u001b[1;32m    559\u001b[0m \u001b[0;34m\u001b[0m\u001b[0m\n\u001b[1;32m    560\u001b[0m     \u001b[0;32mif\u001b[0m \u001b[0;32mnot\u001b[0m \u001b[0mpaths\u001b[0m\u001b[0;34m:\u001b[0m\u001b[0;34m\u001b[0m\u001b[0m\n\u001b[0;32m--> 561\u001b[0;31m         \u001b[0;32mraise\u001b[0m \u001b[0mIOError\u001b[0m\u001b[0;34m(\u001b[0m\u001b[0;34m'no files to open'\u001b[0m\u001b[0;34m)\u001b[0m\u001b[0;34m\u001b[0m\u001b[0m\n\u001b[0m\u001b[1;32m    562\u001b[0m \u001b[0;34m\u001b[0m\u001b[0m\n\u001b[1;32m    563\u001b[0m     \u001b[0;32mif\u001b[0m \u001b[0mlock\u001b[0m \u001b[0;32mis\u001b[0m \u001b[0;32mNone\u001b[0m\u001b[0;34m:\u001b[0m\u001b[0;34m\u001b[0m\u001b[0m\n",
      "\u001b[0;31mOSError\u001b[0m: no files to open"
     ]
    }
   ],
   "source": [
    "budget = set_model('http://copano.tamu.edu:8080/thredds/dodsC/NcML/txla_hindcast_agg')\n",
    "diag = xr.open_mfdataset('/copano/d1/shared/tmp/TXLA_ROMS/2010_diag/ocean_dia*.nc')"
   ]
  },
  {
   "cell_type": "code",
   "execution_count": null,
   "metadata": {},
   "outputs": [],
   "source": []
  }
 ],
 "metadata": {
  "kernelspec": {
   "display_name": "Python 3",
   "language": "python",
   "name": "python3"
  },
  "language_info": {
   "codemirror_mode": {
    "name": "ipython",
    "version": 3
   },
   "file_extension": ".py",
   "mimetype": "text/x-python",
   "name": "python",
   "nbconvert_exporter": "python",
   "pygments_lexer": "ipython3",
   "version": "3.6.5"
  }
 },
 "nbformat": 4,
 "nbformat_minor": 2
}
