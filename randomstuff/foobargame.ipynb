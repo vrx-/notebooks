{
 "cells": [
  {
   "cell_type": "code",
   "execution_count": 57,
   "metadata": {
    "collapsed": false
   },
   "outputs": [],
   "source": [
    "#chalenge 1\n",
    "def answer(area):\n",
    "    if area<1 or area>1000000:\n",
    "        print(\"area must be between 1 and 1000000\")\n",
    "    else:\n",
    "        areas = []\n",
    "        left = area\n",
    "        while left !=0:\n",
    "            areas.append(int(left**.5)**2)\n",
    "            left = area - sum(areas)\n",
    "        return areas"
   ]
  },
  {
   "cell_type": "code",
   "execution_count": 58,
   "metadata": {
    "collapsed": false
   },
   "outputs": [
    {
     "data": {
      "text/plain": [
       "[23409, 36, 9, 1, 1, 1]"
      ]
     },
     "execution_count": 58,
     "metadata": {},
     "output_type": "execute_result"
    }
   ],
   "source": [
    "answer(23457)"
   ]
  },
  {
   "cell_type": "code",
   "execution_count": 66,
   "metadata": {
    "collapsed": false
   },
   "outputs": [],
   "source": [
    "#chalenge 2.1\n",
    "def answer(l):\n",
    "    if len(l)<1 or len(l)>100:\n",
    "        return 'elements in list shuld be at least 1 and should not exceed 100'\n",
    "    else:   \n",
    "        return sorted(l, key=lambda l: [int(el) for el in l.split('.')] )"
   ]
  },
  {
   "cell_type": "code",
   "execution_count": 65,
   "metadata": {
    "collapsed": false
   },
   "outputs": [
    {
     "name": "stdout",
     "output_type": "stream",
     "text": [
      "['1.0', '1.0.2', '1.0.12', '1.1.2', '1.3.3']\n",
      "['0.1', '1.1.1', '1.2', '1.2.1', '1.11', '2', '2.0', '2.0.0']\n"
     ]
    },
    {
     "data": {
      "text/plain": [
       "'elements in list l will be at least 1 and will not exceed 100'"
      ]
     },
     "execution_count": 65,
     "metadata": {},
     "output_type": "execute_result"
    }
   ],
   "source": [
    "lis = [\"1.1.2\", \"1.0\", \"1.3.3\", \"1.0.12\", \"1.0.2\"]\n",
    "print(answer(lis))\n",
    "lis = [\"1.11\", \"2.0.0\", \"1.2\", \"2\", \"0.1\", \"1.2.1\", \"1.1.1\", \"2.0\"]\n",
    "print(answer(lis))\n",
    "lis = []\n",
    "answer(lis)"
   ]
  },
  {
   "cell_type": "code",
   "execution_count": 49,
   "metadata": {
    "collapsed": false
   },
   "outputs": [],
   "source": [
    "#chalenge 2.2\n",
    "def answer(h,q):\n",
    "    roots = []\n",
    "    if h<1 or h>30: \n",
    "        print('The domain of the integer h is 1 <= h <= 30')\n",
    "    if len(q)<1 or len(q)>10000:\n",
    "        print('q must contain at least one but no more than 10000 distinct integers')\n",
    "    if 2**(h-1)>max(q) or min(q)<1:\n",
    "        print('elements of q must be between 1 and 2^h-1 inclusive')\n",
    "    else:\n",
    "        for el in q:\n",
    "            node = (2**h)-1; root = -1; step = 0\n",
    "            while el!=node:\n",
    "                root = node\n",
    "                if el <  0.5*(node + step):\n",
    "                    node = int(0.5*((node-1)+step))\n",
    "                else:\n",
    "                    node = node-1; step = 0.5*(step + root)\n",
    "            roots.append(root)\n",
    "\n",
    "    return roots\n",
    "\n",
    "                    "
   ]
  },
  {
   "cell_type": "code",
   "execution_count": 53,
   "metadata": {
    "collapsed": false
   },
   "outputs": [
    {
     "data": {
      "text/plain": [
       "[21, 15, 29]"
      ]
     },
     "execution_count": 53,
     "metadata": {},
     "output_type": "execute_result"
    }
   ],
   "source": [
    "answer(5, [19, 14, 28])"
   ]
  },
  {
   "cell_type": "code",
   "execution_count": 1,
   "metadata": {
    "collapsed": false
   },
   "outputs": [],
   "source": [
    "#chalenge 3.1\n",
    "def answer(M,F):\n",
    "    bombs = [int(M),int(F)]\n",
    "    gen = 0\n",
    "    while sum(bombs)>2 and min(bombs)>0:\n",
    "        bombs = [max(bombs)-min(bombs), min(bombs)]\n",
    "        print(bombs)\n",
    "        gen += 1\n",
    "    if min(bombs)<1:\n",
    "        gen = \"imposible\"\n",
    "    return str(gen)"
   ]
  },
  {
   "cell_type": "code",
   "execution_count": 23,
   "metadata": {
    "collapsed": false
   },
   "outputs": [
    {
     "data": {
      "text/plain": [
       "'1428571432'"
      ]
     },
     "execution_count": 23,
     "metadata": {},
     "output_type": "execute_result"
    }
   ],
   "source": [
    "answer('10000000000','7')"
   ]
  },
  {
   "cell_type": "code",
   "execution_count": 18,
   "metadata": {
    "collapsed": true
   },
   "outputs": [],
   "source": [
    "#chalenge 3.1 A\n",
    "def answer(M,F):   \n",
    "    bombs = [int(M),int(F)]\n",
    "    gen = 0\n",
    "    while not(bombs[0]==bombs[1]==1):\n",
    "        print(bombs)\n",
    "        if min(bombs)>1 and max(bombs)%min(bombs)==0:\n",
    "            gen = 'impossible'\n",
    "            bombs = [1,1]\n",
    "        elif 0 in bombs :\n",
    "            gen = 'impossible'\n",
    "            bombs = [1,1]\n",
    "        elif 1 in bombs:\n",
    "            gen += max(bombs)-1\n",
    "            bombs = [1, 1]\n",
    "        else:\n",
    "            gen += max(bombs)/min(bombs)\n",
    "            bombs = [max(bombs)%min(bombs), min(bombs)]\n",
    "    return str(gen)\n"
   ]
  },
  {
   "cell_type": "code",
   "execution_count": 33,
   "metadata": {
    "collapsed": false
   },
   "outputs": [],
   "source": [
    "#chalenge 3.1 B\n",
    "def answer(M,F):\n",
    "    bombs = {'M':int(M), 'F':int(F)}\n",
    "    gen = 0\n",
    "    while (not(bombs['M']==bombs['F']==1)):\n",
    "        if 0 in bombs.values():\n",
    "            return 'impossible'\n",
    "        elif (max(bombs.values())%min(bombs.values())==0):\n",
    "            if 1 in bombs.values():\n",
    "                gen += max(bombs.values())-1\n",
    "                bombs = dict.fromkeys(bombs,1)\n",
    "            else:\n",
    "                return 'impossible'\n",
    "        else:\n",
    "            gen += max(bombs.values())/min(bombs.values())\n",
    "            bombs[max(bombs, key=bombs.get)] = max(bombs.values())%min(bombs.values())\n",
    "    return str(gen)"
   ]
  },
  {
   "cell_type": "code",
   "execution_count": 35,
   "metadata": {
    "collapsed": false
   },
   "outputs": [
    {
     "data": {
      "text/plain": [
       "'142863'"
      ]
     },
     "execution_count": 35,
     "metadata": {},
     "output_type": "execute_result"
    }
   ],
   "source": [
    "answer('1000000','7')"
   ]
  },
  {
   "cell_type": "code",
   "execution_count": 36,
   "metadata": {
    "collapsed": false
   },
   "outputs": [],
   "source": [
    "#chalenge 3.2 fail\n",
    "def answer(n):\n",
    "    n = int(n)\n",
    "    op = 0\n",
    "    while n!=1:\n",
    "        print(n, op)\n",
    "        if (n%2==0):\n",
    "            n /= 2; op += 1\n",
    "        else: \n",
    "            n_add = n+1; op_add = 1\n",
    "            while (n_add % 2 == 0) and (n_add>1):\n",
    "                n_add /= 2; op_add += 1\n",
    "            n_rem = n-1; op_rem = 1\n",
    "            while (n_rem % 2 == 0) and (n_rem>1):\n",
    "                n_rem /= 2; op_rem += 1\n",
    "            n = min(n_add, n_rem); op += max(op_add, op_rem)\n",
    "    return op"
   ]
  },
  {
   "cell_type": "code",
   "execution_count": 37,
   "metadata": {
    "collapsed": false
   },
   "outputs": [
    {
     "name": "stdout",
     "output_type": "stream",
     "text": [
      "(1500, 0)\n",
      "(750, 1)\n",
      "(375, 2)\n",
      "(47, 6)\n",
      "(3, 11)\n"
     ]
    },
    {
     "data": {
      "text/plain": [
       "14"
      ]
     },
     "execution_count": 37,
     "metadata": {},
     "output_type": "execute_result"
    }
   ],
   "source": [
    "answer('1500')"
   ]
  },
  {
   "cell_type": "code",
   "execution_count": 48,
   "metadata": {
    "collapsed": false
   },
   "outputs": [],
   "source": [
    "#chalenge 3.2 cool\n",
    "def answer(n):\n",
    "    op = 0\n",
    "    n = int(n)\n",
    "    while(n > 1):\n",
    "        if n % 2 == 0:\n",
    "            n = n / 2\n",
    "        elif n == 3 or n % 4 == 1:\n",
    "            n -= 1\n",
    "        else:\n",
    "            n += 1\n",
    "        op += 1\n",
    "    return op\n"
   ]
  },
  {
   "cell_type": "code",
   "execution_count": null,
   "metadata": {
    "collapsed": true
   },
   "outputs": [],
   "source": []
  }
 ],
 "metadata": {
  "kernelspec": {
   "display_name": "Python 2",
   "language": "python",
   "name": "python2"
  },
  "language_info": {
   "codemirror_mode": {
    "name": "ipython",
    "version": 2
   },
   "file_extension": ".py",
   "mimetype": "text/x-python",
   "name": "python",
   "nbconvert_exporter": "python",
   "pygments_lexer": "ipython2",
   "version": "2.7.11"
  }
 },
 "nbformat": 4,
 "nbformat_minor": 0
}
