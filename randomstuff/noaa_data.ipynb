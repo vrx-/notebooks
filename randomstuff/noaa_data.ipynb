{
 "cells": [
  {
   "cell_type": "code",
   "execution_count": 41,
   "metadata": {
    "collapsed": false
   },
   "outputs": [],
   "source": [
    "import xarray as xr\n",
    "import numpy as np\n",
    "import matplotlib.pyplot as plt\n",
    "\n",
    "%matplotlib inline"
   ]
  },
  {
   "cell_type": "code",
   "execution_count": 42,
   "metadata": {
    "collapsed": false
   },
   "outputs": [
    {
     "ename": "ImportError",
     "evalue": "No module named _LWPCookieJar",
     "output_type": "error",
     "traceback": [
      "\u001b[0;31m---------------------------------------------------------------------------\u001b[0m",
      "\u001b[0;31mImportError\u001b[0m                               Traceback (most recent call last)",
      "\u001b[0;32m<ipython-input-42-2cf6ed8721b7>\u001b[0m in \u001b[0;36m<module>\u001b[0;34m()\u001b[0m\n\u001b[1;32m      1\u001b[0m \u001b[0;31m# BEGIN BASIC AUTH MODULE CODE (Comments removed)\u001b[0m\u001b[0;34m\u001b[0m\u001b[0;34m\u001b[0m\u001b[0m\n\u001b[0;32m----> 2\u001b[0;31m \u001b[0;32mimport\u001b[0m \u001b[0mcookielib\u001b[0m\u001b[0;34m\u001b[0m\u001b[0m\n\u001b[0m\u001b[1;32m      3\u001b[0m \u001b[0;32mimport\u001b[0m \u001b[0mnetrc\u001b[0m\u001b[0;34m\u001b[0m\u001b[0m\n\u001b[1;32m      4\u001b[0m \u001b[0;32mimport\u001b[0m \u001b[0murllib2\u001b[0m\u001b[0;34m\u001b[0m\u001b[0m\n\u001b[1;32m      5\u001b[0m \u001b[0;32mimport\u001b[0m \u001b[0mre\u001b[0m\u001b[0;34m\u001b[0m\u001b[0m\n",
      "\u001b[0;32m/Users/vrx/anaconda/lib/python2.7/cookielib.py\u001b[0m in \u001b[0;36m<module>\u001b[0;34m()\u001b[0m\n\u001b[1;32m   1807\u001b[0m             \u001b[0mself\u001b[0m\u001b[0;34m.\u001b[0m\u001b[0m_cookies_lock\u001b[0m\u001b[0;34m.\u001b[0m\u001b[0mrelease\u001b[0m\u001b[0;34m(\u001b[0m\u001b[0;34m)\u001b[0m\u001b[0;34m\u001b[0m\u001b[0m\n\u001b[1;32m   1808\u001b[0m \u001b[0;34m\u001b[0m\u001b[0m\n\u001b[0;32m-> 1809\u001b[0;31m \u001b[0;32mfrom\u001b[0m \u001b[0m_LWPCookieJar\u001b[0m \u001b[0;32mimport\u001b[0m \u001b[0mLWPCookieJar\u001b[0m\u001b[0;34m,\u001b[0m \u001b[0mlwp_cookie_str\u001b[0m\u001b[0;34m\u001b[0m\u001b[0m\n\u001b[0m\u001b[1;32m   1810\u001b[0m \u001b[0;32mfrom\u001b[0m \u001b[0m_MozillaCookieJar\u001b[0m \u001b[0;32mimport\u001b[0m \u001b[0mMozillaCookieJar\u001b[0m\u001b[0;34m\u001b[0m\u001b[0m\n",
      "\u001b[0;31mImportError\u001b[0m: No module named _LWPCookieJar"
     ]
    }
   ],
   "source": [
    "# BEGIN BASIC AUTH MODULE CODE (Comments removed)\n",
    "import cookielib\n",
    "import netrc\n",
    "import urllib2\n",
    "import re\n",
    " \n",
    "import pydap.lib\n",
    "from pydap.exceptions import ClientError\n",
    " \n",
    "import logging\n",
    " \n",
    "log = logging.getLogger(__name__)\n",
    "log.setLevel(logging.DEBUG)\n",
    " \n",
    "# Set the debug level for urllib2.\n",
    "debuglevel=1\n",
    " \n",
    "def install_basic_client(uri='', user='', passwd='', use_netrc=True):\n",
    "    # Create special opener with support for Cookies\n",
    "    cj = cookielib.CookieJar()\n",
    "    \n",
    "    # Create the password manager and load with the credentials using \n",
    "    pwMgr = urllib2.HTTPPasswordMgrWithDefaultRealm()\n",
    " \n",
    "    # Get passwords from the .netrc file nless use_netrc is False    \n",
    "    if use_netrc:\n",
    "        logins = netrc.netrc()\n",
    "        accounts = logins.hosts # a dist of hosts and tuples\n",
    "        for host, info in accounts.iteritems():\n",
    "            login, account, password = info\n",
    "            log.debug('Host: %s; login: %s; account: %s; password: %s' % (host, login, account, password))\n",
    "            pwMgr.add_password(None, host, login, password)\n",
    "        \n",
    "    if uri and user and passwd:\n",
    "        pwMgr.add_password(None, uri, user, passwd)\n",
    "    \n",
    "    opener = urllib2.build_opener(urllib2.HTTPBasicAuthHandler(pwMgr),\n",
    "                                  urllib2.HTTPCookieProcessor(cj))\n",
    "    \n",
    "    opener.addheaders = [('User-agent', 'pydap/EL')]\n",
    " \n",
    "    urllib2.install_opener(opener)\n",
    " \n",
    "    def new_request(url):\n",
    "        if url[-1] is '&': url = url[0:-1]\n",
    "        log.debug('Opening %s (install_basic_client)' % url)\n",
    "        r = urllib2.urlopen(url)\n",
    "        \n",
    "        resp = r.headers.dict\n",
    "        resp['status'] = str(r.code)\n",
    "        data = r.read()\n",
    " \n",
    "        # When an error is returned, we parse the error message from the\n",
    "        # server and return it in a ``ClientError`` exception.\n",
    "        if resp.get(\"content-description\") == \"dods_error\":\n",
    "            m = re.search('code = (?P<code>\\d+);\\s*message = \"(?P<msg>.*)\"',\n",
    "                    data, re.DOTALL | re.MULTILINE)\n",
    "            msg = 'Server error %(code)s: \"%(msg)s\"' % m.groupdict()\n",
    "            raise ClientError(msg)\n",
    " \n",
    "        return resp, data\n",
    " \n",
    "    from pydap.util import http\n",
    "    http.request = new_request\n",
    "    \n",
    "# END BASIC AUTH MODULE CODE\n",
    " \n",
    "install_basic_client()\n",
    "from pydap.client import open_url"
   ]
  },
  {
   "cell_type": "code",
   "execution_count": 32,
   "metadata": {
    "collapsed": false
   },
   "outputs": [],
   "source": [
    "loc = 'https://disc2.gesdisc.eosdis.nasa.gov:443/opendap/TRMM_RT/TRMM_3B42RT_Daily.7/'\n",
    "years = range(2011,2012)\n",
    "months = [\"{0:0=2d}\".format(month) for month in range(1,13)]\n",
    "days = [\"{0:0=2d}\".format(day) for day in range(1,32)]\n",
    "paths = []\n",
    "data = []\n",
    "fails = []\n",
    "for year in years:\n",
    "    for month in months:\n",
    "        for day in days:\n",
    "            path=loc+str(year)+'/'+month+'/3B42RT_Daily.'+str(year)+month+day+'.7.nc4'\n",
    "            paths.append(path)\n",
    "#             data.append(xr.open_dataset(path))\n",
    "            try: data.append(netCDF4.Dataset(path)['precipitation'])\n",
    "            except: fails.append(str(year)+month+day)"
   ]
  },
  {
   "cell_type": "code",
   "execution_count": 33,
   "metadata": {
    "collapsed": false
   },
   "outputs": [
    {
     "data": {
      "text/plain": [
       "['20110111',\n",
       " '20110112',\n",
       " '20110113',\n",
       " '20110114',\n",
       " '20110115',\n",
       " '20110126',\n",
       " '20110127',\n",
       " '20110128',\n",
       " '20110129',\n",
       " '20110209',\n",
       " '20110210',\n",
       " '20110211',\n",
       " '20110212',\n",
       " '20110213',\n",
       " '20110216',\n",
       " '20110225',\n",
       " '20110228',\n",
       " '20110229',\n",
       " '20110230',\n",
       " '20110231',\n",
       " '20110311',\n",
       " '20110313',\n",
       " '20110318',\n",
       " '20110319',\n",
       " '20110320',\n",
       " '20110327',\n",
       " '20110330',\n",
       " '20110402',\n",
       " '20110403',\n",
       " '20110410',\n",
       " '20110413',\n",
       " '20110414',\n",
       " '20110415',\n",
       " '20110425',\n",
       " '20110427',\n",
       " '20110428',\n",
       " '20110431',\n",
       " '20110505',\n",
       " '20110510',\n",
       " '20110511',\n",
       " '20110512',\n",
       " '20110514',\n",
       " '20110516',\n",
       " '20110525',\n",
       " '20110526',\n",
       " '20110527',\n",
       " '20110530',\n",
       " '20110601',\n",
       " '20110608',\n",
       " '20110609',\n",
       " '20110610',\n",
       " '20110615',\n",
       " '20110620',\n",
       " '20110622',\n",
       " '20110624',\n",
       " '20110625',\n",
       " '20110626',\n",
       " '20110627',\n",
       " '20110628',\n",
       " '20110631',\n",
       " '20110709',\n",
       " '20110710',\n",
       " '20110711',\n",
       " '20110722',\n",
       " '20110723',\n",
       " '20110724',\n",
       " '20110725',\n",
       " '20110726',\n",
       " '20110806',\n",
       " '20110807',\n",
       " '20110808',\n",
       " '20110809',\n",
       " '20110810',\n",
       " '20110811',\n",
       " '20110813',\n",
       " '20110814',\n",
       " '20110815',\n",
       " '20110816',\n",
       " '20110827',\n",
       " '20110828',\n",
       " '20110829',\n",
       " '20110830',\n",
       " '20110904',\n",
       " '20110905',\n",
       " '20110906',\n",
       " '20110907',\n",
       " '20110908',\n",
       " '20110909',\n",
       " '20110910',\n",
       " '20110911',\n",
       " '20110912',\n",
       " '20110913',\n",
       " '20110914',\n",
       " '20110915',\n",
       " '20110916',\n",
       " '20110917',\n",
       " '20110918',\n",
       " '20110919',\n",
       " '20110920',\n",
       " '20110921',\n",
       " '20110922',\n",
       " '20110923',\n",
       " '20110924',\n",
       " '20110925',\n",
       " '20110926',\n",
       " '20110927',\n",
       " '20110928',\n",
       " '20110929',\n",
       " '20110930',\n",
       " '20110931',\n",
       " '20111001',\n",
       " '20111002',\n",
       " '20111003',\n",
       " '20111004',\n",
       " '20111005',\n",
       " '20111006',\n",
       " '20111007',\n",
       " '20111008',\n",
       " '20111009',\n",
       " '20111010',\n",
       " '20111011',\n",
       " '20111012',\n",
       " '20111013',\n",
       " '20111014',\n",
       " '20111015',\n",
       " '20111016',\n",
       " '20111017',\n",
       " '20111018',\n",
       " '20111019',\n",
       " '20111020',\n",
       " '20111021',\n",
       " '20111022',\n",
       " '20111023',\n",
       " '20111024',\n",
       " '20111025',\n",
       " '20111026',\n",
       " '20111027',\n",
       " '20111028',\n",
       " '20111029',\n",
       " '20111030',\n",
       " '20111031',\n",
       " '20111101',\n",
       " '20111102',\n",
       " '20111103',\n",
       " '20111104',\n",
       " '20111105',\n",
       " '20111106',\n",
       " '20111107',\n",
       " '20111108',\n",
       " '20111109',\n",
       " '20111110',\n",
       " '20111111',\n",
       " '20111112',\n",
       " '20111113',\n",
       " '20111114',\n",
       " '20111115',\n",
       " '20111116',\n",
       " '20111117',\n",
       " '20111118',\n",
       " '20111119',\n",
       " '20111120',\n",
       " '20111121',\n",
       " '20111122',\n",
       " '20111123',\n",
       " '20111124',\n",
       " '20111125',\n",
       " '20111126',\n",
       " '20111127',\n",
       " '20111128',\n",
       " '20111129',\n",
       " '20111130',\n",
       " '20111131',\n",
       " '20111201',\n",
       " '20111202',\n",
       " '20111203',\n",
       " '20111204',\n",
       " '20111205',\n",
       " '20111206',\n",
       " '20111207',\n",
       " '20111208',\n",
       " '20111209',\n",
       " '20111210',\n",
       " '20111211',\n",
       " '20111212',\n",
       " '20111213',\n",
       " '20111214',\n",
       " '20111215',\n",
       " '20111216',\n",
       " '20111217',\n",
       " '20111218',\n",
       " '20111219',\n",
       " '20111220',\n",
       " '20111221',\n",
       " '20111222',\n",
       " '20111223',\n",
       " '20111224',\n",
       " '20111225',\n",
       " '20111226',\n",
       " '20111227',\n",
       " '20111228',\n",
       " '20111229',\n",
       " '20111230',\n",
       " '20111231']"
      ]
     },
     "execution_count": 33,
     "metadata": {},
     "output_type": "execute_result"
    }
   ],
   "source": [
    "fails"
   ]
  },
  {
   "cell_type": "code",
   "execution_count": 26,
   "metadata": {
    "collapsed": false
   },
   "outputs": [],
   "source": [
    "import netCDF4"
   ]
  },
  {
   "cell_type": "code",
   "execution_count": 37,
   "metadata": {
    "collapsed": true
   },
   "outputs": [],
   "source": [
    "nc = netCDF4.Dataset(paths[-1])"
   ]
  },
  {
   "cell_type": "code",
   "execution_count": 38,
   "metadata": {
    "collapsed": false
   },
   "outputs": [
    {
     "data": {
      "text/plain": [
       "[u'precipitation_cnt',\n",
       " u'uncal_precipitation',\n",
       " u'uncal_precipitation_cnt',\n",
       " u'precipitation',\n",
       " u'randomError_cnt',\n",
       " u'randomError',\n",
       " u'lat',\n",
       " u'lon']"
      ]
     },
     "execution_count": 38,
     "metadata": {},
     "output_type": "execute_result"
    }
   ],
   "source": [
    "nc.variables.keys()"
   ]
  },
  {
   "cell_type": "code",
   "execution_count": 39,
   "metadata": {
    "collapsed": false
   },
   "outputs": [
    {
     "ename": "RuntimeError",
     "evalue": "NetCDF: I/O failure",
     "output_type": "error",
     "traceback": [
      "\u001b[0;31m---------------------------------------------------------------------------\u001b[0m",
      "\u001b[0;31mRuntimeError\u001b[0m                              Traceback (most recent call last)",
      "\u001b[0;32m<ipython-input-39-202ec7a174ea>\u001b[0m in \u001b[0;36m<module>\u001b[0;34m()\u001b[0m\n\u001b[0;32m----> 1\u001b[0;31m \u001b[0mnc\u001b[0m\u001b[0;34m[\u001b[0m\u001b[0;34m'lat'\u001b[0m\u001b[0;34m]\u001b[0m\u001b[0;34m[\u001b[0m\u001b[0;34m:\u001b[0m\u001b[0;34m]\u001b[0m\u001b[0;34m\u001b[0m\u001b[0m\n\u001b[0m",
      "\u001b[0;32mnetCDF4/_netCDF4.pyx\u001b[0m in \u001b[0;36mnetCDF4._netCDF4.Variable.__getitem__ (netCDF4/_netCDF4.c:37910)\u001b[0;34m()\u001b[0m\n",
      "\u001b[0;32mnetCDF4/_netCDF4.pyx\u001b[0m in \u001b[0;36mnetCDF4._netCDF4.Variable._get (netCDF4/_netCDF4.c:47130)\u001b[0;34m()\u001b[0m\n",
      "\u001b[0;31mRuntimeError\u001b[0m: NetCDF: I/O failure"
     ]
    }
   ],
   "source": [
    "nc['lat'][:]"
   ]
  },
  {
   "cell_type": "code",
   "execution_count": null,
   "metadata": {
    "collapsed": true
   },
   "outputs": [],
   "source": []
  }
 ],
 "metadata": {
  "kernelspec": {
   "display_name": "Python 2",
   "language": "python",
   "name": "python2"
  },
  "language_info": {
   "codemirror_mode": {
    "name": "ipython",
    "version": 2
   },
   "file_extension": ".py",
   "mimetype": "text/x-python",
   "name": "python",
   "nbconvert_exporter": "python",
   "pygments_lexer": "ipython2",
   "version": "2.7.11"
  }
 },
 "nbformat": 4,
 "nbformat_minor": 0
}
