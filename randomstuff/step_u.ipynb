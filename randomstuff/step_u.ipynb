{
 "cells": [
  {
   "cell_type": "code",
   "execution_count": 1,
   "metadata": {
    "collapsed": true
   },
   "outputs": [],
   "source": [
    "import numpy as np\n",
    "import matplotlib.pyplot as plt\n",
    "%matplotlib inline"
   ]
  },
  {
   "cell_type": "code",
   "execution_count": 29,
   "metadata": {
    "collapsed": false
   },
   "outputs": [
    {
     "data": {
      "text/plain": [
       "[<matplotlib.lines.Line2D at 0x109e0e990>]"
      ]
     },
     "execution_count": 29,
     "metadata": {},
     "output_type": "execute_result"
    },
    {
     "data": {
      "image/png": "[encoded data removed]",
      "text/plain": [
       "<matplotlib.figure.Figure at 0x1089b8990>"
      ]
     },
     "metadata": {},
     "output_type": "display_data"
    }
   ],
   "source": [
    "x  = np.linspace(0,1,50)\n",
    "dx = x[1] - x[0]\n",
    "dt = 0.1\n",
    "c  = 0.05\n",
    "\n",
    "I = np.sin(20*x)\n",
    "\n",
    "fac = dt*c/dx\n",
    "\n",
    "\n",
    "def step(u):\n",
    "    '''return next time step'''\n",
    "    unew = np.zeros_like(u)\n",
    "    unew[0] = np.cos(u[0])**3\n",
    "    unew[1:] = u[1:] - fac*(u[1:]-u[:-1])\n",
    "    return unew\n",
    "\n",
    "u = np.copy(I)\n",
    "\n",
    "for n in range(500):\n",
    "#    u[0] = np.exp(u[0])\n",
    "    u= step(u)\n",
    "    \n",
    "plt.plot(x,u)\n",
    "plt.plot(x,I, '--r')"
   ]
  }
 ],
 "metadata": {
  "kernelspec": {
   "display_name": "Python 2",
   "language": "python",
   "name": "python2"
  },
  "language_info": {
   "codemirror_mode": {
    "name": "ipython",
    "version": 2
   },
   "file_extension": ".py",
   "mimetype": "text/x-python",
   "name": "python",
   "nbconvert_exporter": "python",
   "pygments_lexer": "ipython2",
   "version": "2.7.10"
  }
 },
 "nbformat": 4,
 "nbformat_minor": 0
}
