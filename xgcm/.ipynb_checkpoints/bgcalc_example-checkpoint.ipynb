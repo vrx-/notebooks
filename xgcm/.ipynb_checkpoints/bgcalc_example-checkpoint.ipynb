{
 "cells": [
  {
   "cell_type": "code",
   "execution_count": 1,
   "metadata": {},
   "outputs": [],
   "source": [
    "# %load_ext autoreload\n",
    "# %autoreload 2\n",
    "\n",
    "import numpy as np\n",
    "import xarray as xr\n",
    "from xgcm import Grid\n",
    "from matplotlib import pyplot as plt\n",
    "import cartopy.crs as ccrs\n",
    "\n",
    "from backgroung import plot_map\n",
    "import bgcalc_xr as bgxr"
   ]
  },
  {
   "cell_type": "code",
   "execution_count": 2,
   "metadata": {},
   "outputs": [],
   "source": [
    "model_path = 'http://barataria.tamu.edu:8080/thredds/dodsC/NcML/txla_hindcast_agg'\n",
    "model = xr.open_dataset(model_path)"
   ]
  },
  {
   "cell_type": "code",
   "execution_count": 3,
   "metadata": {},
   "outputs": [],
   "source": [
    "# Grid projection setting\n",
    "llcrnrlat=22.85\n",
    "llcrnrlon=-97.9\n",
    "urcrnrlat=30.5\n",
    "urcrnrlon=-87.5\n",
    "lon_0 = (llcrnrlon+urcrnrlon)*0.5\n",
    "extent=[llcrnrlon, urcrnrlon, llcrnrlat, urcrnrlat]\n",
    "p = ccrs.PlateCarree(central_longitude=lon_0)\n",
    "\n",
    "#calc mask\n",
    "hmin = 10.\n",
    "hmax = 50.\n",
    "mab = 5\n",
    "\n",
    "lonl = -95\n",
    "lonr = -91\n",
    "latl = 28.\n",
    "latu = 29.6\n",
    "\n",
    "ROI =(model.h>=hmin)&(model.h<=hmax)& \\\n",
    "    (model.coords['lon_rho']>=lonl)&(model.coords['lon_rho']<=lonr)& \\\n",
    "    (model.coords['lat_rho']>=latl)& (model['lat_rho'] < latu)& \\\n",
    "    (model.mask_rho==1)\n",
    "ROI[161:166,274:279]=False\n",
    "model.coords['mask2D'] = (('eta_rho', 'xi_rho'), ROI)"
   ]
  },
  {
   "cell_type": "code",
   "execution_count": 26,
   "metadata": {},
   "outputs": [
    {
     "name": "stderr",
     "output_type": "stream",
     "text": [
      "/Users/vrx/miniconda3/envs/owl/lib/python3.6/_collections_abc.py:720: FutureWarning: iteration over an xarray.Dataset will change in xarray v0.11 to only include data variables, not coordinates. Iterate over the Dataset.variables property instead to preserve existing behavior in a forwards compatible manner.\n",
      "  yield from self._mapping\n"
     ]
    }
   ],
   "source": [
    "ds = bgxr.Calculator(model)"
   ]
  },
  {
   "cell_type": "code",
   "execution_count": 27,
   "metadata": {},
   "outputs": [
    {
     "name": "stdout",
     "output_type": "stream",
     "text": [
      "1993-01-01T01:00:00.000000000\n",
      "0\n"
     ]
    }
   ],
   "source": [
    "tidx = 0\n",
    "ds.subset(tidx)\n",
    "print(ds.time)\n",
    "print(ds.tidx)\n",
    "# dz = ds.get_intrate()\n",
    "# # ds.get_btmflux()"
   ]
  },
  {
   "cell_type": "code",
   "execution_count": 28,
   "metadata": {},
   "outputs": [
    {
     "ename": "TypeError",
     "evalue": "get_depths() got an unexpected keyword argument 'tidx'",
     "output_type": "error",
     "traceback": [
      "\u001b[0;31m---------------------------------------------------------------------------\u001b[0m",
      "\u001b[0;31mTypeError\u001b[0m                                 Traceback (most recent call last)",
      "\u001b[0;32m<ipython-input-28-5cb764f41050>\u001b[0m in \u001b[0;36m<module>\u001b[0;34m()\u001b[0m\n\u001b[0;32m----> 1\u001b[0;31m \u001b[0mz_w_chunk\u001b[0m \u001b[0;34m=\u001b[0m \u001b[0mds\u001b[0m\u001b[0;34m.\u001b[0m\u001b[0mget_depths\u001b[0m\u001b[0;34m(\u001b[0m\u001b[0;34m'w'\u001b[0m\u001b[0;34m,\u001b[0m \u001b[0mtidx\u001b[0m\u001b[0;34m=\u001b[0m\u001b[0mslice\u001b[0m\u001b[0;34m(\u001b[0m\u001b[0mds\u001b[0m\u001b[0;34m.\u001b[0m\u001b[0mtidx\u001b[0m\u001b[0;34m,\u001b[0m \u001b[0mds\u001b[0m\u001b[0;34m.\u001b[0m\u001b[0mtidx\u001b[0m \u001b[0;34m+\u001b[0m \u001b[0;36m2\u001b[0m\u001b[0;34m)\u001b[0m\u001b[0;34m)\u001b[0m\u001b[0;34m\u001b[0m\u001b[0m\n\u001b[0m",
      "\u001b[0;31mTypeError\u001b[0m: get_depths() got an unexpected keyword argument 'tidx'"
     ]
    }
   ],
   "source": [
    "z_w_chunk = ds.get_depths('w', tidx=slice(ds.tidx, ds.tidx + 2))"
   ]
  },
  {
   "cell_type": "code",
   "execution_count": 46,
   "metadata": {},
   "outputs": [
    {
     "data": {
      "text/plain": [
       "Frozen(SortedKeysDict(OrderedDict([('tracer', 6), ('s_rho', 30), ('s_w', 31), ('eta_rho', 191), ('xi_rho', 671), ('ocean_time', 2), ('eta_v', 190), ('xi_u', 670)])))"
      ]
     },
     "execution_count": 46,
     "metadata": {},
     "output_type": "execute_result"
    }
   ],
   "source": [
    "rate.dims"
   ]
  },
  {
   "cell_type": "code",
   "execution_count": null,
   "metadata": {},
   "outputs": [],
   "source": [
    "coords_dict = {'xi': {'center': 'xi_rho', 'inner': 'xi_u'}, 'eta': {'center': 'eta_rho', 'inner': 'eta_v'}, 's': {'center': 's_rho', 'outer': 's_w'}}"
   ]
  },
  {
   "cell_type": "code",
   "execution_count": null,
   "metadata": {},
   "outputs": [],
   "source": [
    "grid = Grid(model, coords_dict)"
   ]
  },
  {
   "cell_type": "code",
   "execution_count": null,
   "metadata": {},
   "outputs": [],
   "source": [
    "def rename_redundant_dim(ds):\n",
    "    rename_dict = {'xi_v': 'xi_rho', 'xi_psi': 'xi_u', 'eta_u': 'eta_rho', 'eta_psi': 'eta_v'}\n",
    "    for k, v in rename_dict.items():\n",
    "        ds_full = ds.copy()\n",
    "        # remove redundant dims\n",
    "        drop_vars = [a for a in ds.keys() if k in ds[a].dims]\n",
    "        ds = ds.drop(drop_vars)\n",
    "        for d in ds_full.data_vars:\n",
    "            if k in ds_full[d].dims:\n",
    "                ds[d] = ds_full[d].rename({k: v})\n",
    "        for c in ds_full.coords:\n",
    "            if k in ds_full[c].dims:\n",
    "                ds.coords[c] = ds_full[c].rename({k: v})\n",
    "    return ds\n",
    "model = rename_redundant_dim(model)"
   ]
  },
  {
   "cell_type": "code",
   "execution_count": null,
   "metadata": {},
   "outputs": [],
   "source": [
    "model"
   ]
  },
  {
   "cell_type": "code",
   "execution_count": null,
   "metadata": {},
   "outputs": [],
   "source": []
  }
 ],
 "metadata": {
  "kernelspec": {
   "display_name": "Python 3",
   "language": "python",
   "name": "python3"
  },
  "language_info": {
   "codemirror_mode": {
    "name": "ipython",
    "version": 3
   },
   "file_extension": ".py",
   "mimetype": "text/x-python",
   "name": "python",
   "nbconvert_exporter": "python",
   "pygments_lexer": "ipython3",
   "version": "3.6.5"
  }
 },
 "nbformat": 4,
 "nbformat_minor": 2
}
