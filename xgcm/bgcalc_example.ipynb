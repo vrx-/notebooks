{
 "cells": [
  {
   "cell_type": "code",
   "execution_count": 1,
   "metadata": {},
   "outputs": [],
   "source": [
    "%load_ext autoreload\n",
    "%autoreload 2\n",
    "\n",
    "import numpy as np\n",
    "import xarray as xr\n",
    "from xgcm import Grid\n",
    "from matplotlib import pyplot as plt\n",
    "import cartopy.crs as ccrs\n",
    "\n",
    "from backgroung import plot_map\n",
    "import bgcalc_xr as bgxr"
   ]
  },
  {
   "cell_type": "code",
   "execution_count": 2,
   "metadata": {},
   "outputs": [],
   "source": [
    "model_path = 'http://barataria.tamu.edu:8080/thredds/dodsC/NcML/txla_hindcast_agg'\n",
    "model = xr.open_dataset(model_path)"
   ]
  },
  {
   "cell_type": "code",
   "execution_count": 3,
   "metadata": {},
   "outputs": [],
   "source": [
    "# Grid projection setting\n",
    "llcrnrlat=22.85\n",
    "llcrnrlon=-97.9\n",
    "urcrnrlat=30.5\n",
    "urcrnrlon=-87.5\n",
    "lon_0 = (llcrnrlon+urcrnrlon)*0.5\n",
    "extent=[llcrnrlon, urcrnrlon, llcrnrlat, urcrnrlat]\n",
    "p = ccrs.PlateCarree(central_longitude=lon_0)\n",
    "\n",
    "#Define region of interest\n",
    "hmin = 10.\n",
    "hmax = 50.\n",
    "mab = 5\n",
    "\n",
    "lonl = -95\n",
    "lonr = -91\n",
    "latl = 28.\n",
    "latu = 29.6\n",
    "\n",
    "ROI =(model.h>=hmin)&(model.h<=hmax)& \\\n",
    "    (model.coords['lon_rho']>=lonl)&(model.coords['lon_rho']<=lonr)& \\\n",
    "    (model.coords['lat_rho']>=latl)& (model['lat_rho'] < latu)& \\\n",
    "    (model.mask_rho==1)\n",
    "ROI[161:166,274:279]=False\n",
    "model.coords['mask2D'] = (('eta_rho', 'xi_rho'), ROI)"
   ]
  },
  {
   "cell_type": "code",
   "execution_count": 4,
   "metadata": {},
   "outputs": [
    {
     "name": "stderr",
     "output_type": "stream",
     "text": [
      "/Users/vrx/miniconda3/envs/owl/lib/python3.6/_collections_abc.py:720: FutureWarning: iteration over an xarray.Dataset will change in xarray v0.11 to only include data variables, not coordinates. Iterate over the Dataset.variables property instead to preserve existing behavior in a forwards compatible manner.\n",
      "  yield from self._mapping\n"
     ]
    }
   ],
   "source": [
    "ds = bgxr.Calculator(model)"
   ]
  },
  {
   "cell_type": "code",
   "execution_count": 5,
   "metadata": {},
   "outputs": [],
   "source": [
    "tidx = 0\n",
    "ds.subset('2010-08-01T00')\n",
    "rate = ds.get_intrate()\n",
    "SOD = ds.get_btmflux()"
   ]
  },
  {
   "cell_type": "code",
   "execution_count": 6,
   "metadata": {},
   "outputs": [],
   "source": [
    "uadv , vadv = ds.get_inthadv()"
   ]
  },
  {
   "cell_type": "code",
   "execution_count": 7,
   "metadata": {},
   "outputs": [],
   "source": [
    "dudx = ds.grid.diff(ds.ds.u, 'xi').where(ds.ROI)"
   ]
  },
  {
   "cell_type": "code",
   "execution_count": 8,
   "metadata": {},
   "outputs": [],
   "source": [
    "diverg = ds.get_divergence()"
   ]
  },
  {
   "cell_type": "code",
   "execution_count": 10,
   "metadata": {},
   "outputs": [],
   "source": [
    "vort = ds.get_vorticity()"
   ]
  },
  {
   "cell_type": "code",
   "execution_count": 11,
   "metadata": {},
   "outputs": [],
   "source": [
    "# start = time.time()\n",
    "# vadv = ds.advflux_z()\n",
    "# end = time.time()\n",
    "\n",
    "# print(end-start)\n",
    "# vadv.to_netcdf('vadv.nc')\n",
    "\n",
    "vadv = xr.open_dataset('vadv.nc')"
   ]
  },
  {
   "cell_type": "code",
   "execution_count": 34,
   "metadata": {},
   "outputs": [],
   "source": [
    "vdiff = ds.get_difflux_z(btm_diff=SOD)"
   ]
  },
  {
   "cell_type": "code",
   "execution_count": 35,
   "metadata": {},
   "outputs": [
    {
     "data": {
      "text/plain": [
       "<xarray.DataArray (eta_rho: 191, xi_rho: 671)>\n",
       "array([[ nan,  nan,  nan, ...,  nan,  nan,  nan],\n",
       "       [ nan,  nan,  nan, ...,  nan,  nan,  nan],\n",
       "       [ nan,  nan,  nan, ...,  nan,  nan,  nan],\n",
       "       ..., \n",
       "       [ nan,  nan,  nan, ...,  nan,  nan,  nan],\n",
       "       [ nan,  nan,  nan, ...,  nan,  nan,  nan],\n",
       "       [ nan,  nan,  nan, ...,  nan,  nan,  nan]])\n",
       "Coordinates:\n",
       "    lon_rho  (eta_rho, xi_rho) float64 -95.48 -95.48 -95.48 -95.48 -95.48 ...\n",
       "    lat_rho  (eta_rho, xi_rho) float64 23.11 23.14 23.17 23.2 23.23 23.26 ...\n",
       "    mask2D   (eta_rho, xi_rho) bool False False False False False False ...\n",
       "Dimensions without coordinates: eta_rho, xi_rho"
      ]
     },
     "execution_count": 35,
     "metadata": {},
     "output_type": "execute_result"
    }
   ],
   "source": [
    "vdiff"
   ]
  },
  {
   "cell_type": "code",
   "execution_count": 32,
   "metadata": {},
   "outputs": [],
   "source": [
    "start = time.time()\n",
    "\n",
    "end = time.time()"
   ]
  },
  {
   "cell_type": "code",
   "execution_count": 33,
   "metadata": {},
   "outputs": [
    {
     "data": {
      "text/plain": [
       "-51.41118836402893"
      ]
     },
     "execution_count": 33,
     "metadata": {},
     "output_type": "execute_result"
    }
   ],
   "source": [
    "start - end"
   ]
  },
  {
   "cell_type": "code",
   "execution_count": null,
   "metadata": {},
   "outputs": [],
   "source": [
    "plot_map(ds.ds.lon_rho, ds.ds.lat_rho, vadv, vmin=-1e5, vmax=1e5)"
   ]
  },
  {
   "cell_type": "code",
   "execution_count": 13,
   "metadata": {},
   "outputs": [],
   "source": [
    "from scipy.interpolate import interp1d\n",
    "import time"
   ]
  },
  {
   "cell_type": "code",
   "execution_count": null,
   "metadata": {},
   "outputs": [],
   "source": [
    "flux = xr.zeros_like(ds.zmab)\n",
    "Js, Is = np.where(ds.ROI == 1)\n",
    "\n",
    "def get_vflux(ds, point):\n",
    "    j = point[0]\n",
    "    i = point[1]\n",
    "    colum = ds.ds.isel(eta_rho=j, xi_rho=i)\n",
    "    \n",
    "    var = ds.ds.isel(eta_rho=j, xi_rho=i)[ds.var]\n",
    "    w = ds.ds.isel(eta_rho=j, xi_rho=i)['w']\n",
    "    \n",
    "    stg_depths = ds.z_w.isel(eta_rho=j, xi_rho=i)\n",
    "    var_depths = ds.z_rho.isel(eta_rho=j, xi_rho=i)\n",
    "    zmab = ds.zmab.isel(eta_rho=j, xi_rho=i)\n",
    "    \n",
    "    fw_z = interp1d(stg_depths, w)\n",
    "    if zmab >= var_depths[-1]:\n",
    "        if zmab >= stg_depths[-1]:\n",
    "            flux[j, i] = 0.\n",
    "        else:\n",
    "            flux[j, i] = fw_z(zmab) * var[-1]\n",
    "    elif zmab <= var_depths[0]:\n",
    "        flux[j, i] = fw_z(zmab) * var[0]\n",
    "    else:\n",
    "        fvar_z = interp1d(var_depths, var)\n",
    "        flux[j, i] = fw_z(zmab) * fvar_z(zmab)"
   ]
  },
  {
   "cell_type": "code",
   "execution_count": null,
   "metadata": {},
   "outputs": [],
   "source": [
    "from concurrent.futures import ThreadPoolExecutor"
   ]
  },
  {
   "cell_type": "code",
   "execution_count": null,
   "metadata": {},
   "outputs": [],
   "source": [
    "e = ThreadPoolExecutor(8)\n",
    "\n",
    "points = zip(Js, Is)\n",
    "\n",
    "e.map(get_vflux,points)"
   ]
  },
  {
   "cell_type": "code",
   "execution_count": null,
   "metadata": {},
   "outputs": [],
   "source": []
  },
  {
   "cell_type": "code",
   "execution_count": null,
   "metadata": {},
   "outputs": [],
   "source": [
    "dir(ds)"
   ]
  },
  {
   "cell_type": "code",
   "execution_count": null,
   "metadata": {},
   "outputs": [],
   "source": []
  }
 ],
 "metadata": {
  "kernelspec": {
   "display_name": "Python 3",
   "language": "python",
   "name": "python3"
  },
  "language_info": {
   "codemirror_mode": {
    "name": "ipython",
    "version": 3
   },
   "file_extension": ".py",
   "mimetype": "text/x-python",
   "name": "python",
   "nbconvert_exporter": "python",
   "pygments_lexer": "ipython3",
   "version": "3.6.5"
  }
 },
 "nbformat": 4,
 "nbformat_minor": 2
}
