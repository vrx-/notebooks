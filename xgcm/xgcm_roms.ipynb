{
 "cells": [
  {
   "cell_type": "code",
   "execution_count": 8,
   "metadata": {},
   "outputs": [],
   "source": [
    "import xarray as xr\n",
    "from xgcm import Grid\n",
    "from matplotlib import pyplot as plt\n",
    "import pandas as pd\n",
    "from backgroung import *\n",
    "import cartopy.crs as ccrs\n",
    "import warnings\n",
    "from IPython.core.display import SVG, HTML"
   ]
  },
  {
   "cell_type": "code",
   "execution_count": 2,
   "metadata": {},
   "outputs": [],
   "source": [
    "model_path = 'http://barataria.tamu.edu:8080/thredds/dodsC/NcML/txla_hindcast_agg'\n",
    "model = xr.open_dataset(model_path)"
   ]
  },
  {
   "cell_type": "code",
   "execution_count": 6,
   "metadata": {},
   "outputs": [
    {
     "data": {
      "text/plain": [
       "Coordinates:\n",
       "  * s_rho       (s_rho) float64 -0.9833 -0.95 -0.9167 -0.8833 -0.85 -0.8167 ...\n",
       "  * s_w         (s_w) float64 -1.0 -0.9667 -0.9333 -0.9 -0.8667 -0.8333 -0.8 ...\n",
       "    lon_rho     (eta_rho, xi_rho) float64 ...\n",
       "    lat_rho     (eta_rho, xi_rho) float64 ...\n",
       "    lon_u       (eta_u, xi_u) float64 ...\n",
       "    lat_u       (eta_u, xi_u) float64 ...\n",
       "    lon_v       (eta_v, xi_v) float64 ...\n",
       "    lat_v       (eta_v, xi_v) float64 ...\n",
       "    lon_psi     (eta_psi, xi_psi) float64 ...\n",
       "    lat_psi     (eta_psi, xi_psi) float64 ...\n",
       "  * ocean_time  (ocean_time) datetime64[ns] 1993-01-01T01:00:00 ..."
      ]
     },
     "execution_count": 6,
     "metadata": {},
     "output_type": "execute_result"
    }
   ],
   "source": [
    "model.coords"
   ]
  },
  {
   "cell_type": "code",
   "execution_count": 10,
   "metadata": {},
   "outputs": [
    {
     "data": {
      "image/svg+xml": [
       "<svg height=\"230\" style=\"display: block;margin-left: auto;margin-right: auto;\" version=\"1.1\" viewBox=\"0 0 650 230\" width=\"650\" x=\"0\" xmlns=\"http://www.w3.org/2000/svg\" xmlns:xlink=\"http://www.w3.org/1999/xlink\" y=\"0\">\n",
       "<defs>\n",
       "\n",
       "<style type=\"text/css\"><![CDATA[\n",
       "\n",
       ".g1_1{\n",
       "fill: #FFFFFF;\n",
       "}\n",
       ".g2_1{\n",
       "fill: #EBEBEB;\n",
       "}\n",
       ".g3_1{\n",
       "fill: none;\n",
       "stroke: #000000;\n",
       "stroke-width: 3.0555556;\n",
       "stroke-linecap: butt;\n",
       "stroke-linejoin: miter;\n",
       "stroke-miterlimit: 4;\n",
       "}\n",
       ".g4_1{\n",
       "fill: none;\n",
       "stroke: #000000;\n",
       "stroke-width: 1.5277778;\n",
       "stroke-linecap: butt;\n",
       "stroke-linejoin: miter;\n",
       "stroke-miterlimit: 4;\n",
       "stroke-dasharray: 4,4;\n",
       "}\n",
       "\n",
       ".s1_1{\n",
       "font-size: 16.81px;\n",
       "font-family: Helvetica, sans-serif;\n",
       "fill: #000000;\n",
       "}\n",
       ".s2_1{\n",
       "font-size: 16.81px;\n",
       "font-family: \"Lucida Console\", Monaco, monospace;\n",
       "fill: #175778;\n",
       "}\n",
       ".s3_1{\n",
       "font-size: 16.81px;\n",
       "font-family: Helvetica, sans-serif;\n",
       "font-weight: bold;\n",
       "fill: #000000;\n",
       "}\n",
       "]]></style>\n",
       "\n",
       "</defs>\n",
       "<path d=\"M0,0 L0,230 L650,230 L650,0 Z \" fill=\"#FFFFFF\" stroke=\"none\"/>\n",
       "<path class=\"g1_1\" d=\"M-269.8,-219.3l1209.9,0l0,934.9l-1209.9,0Z\"/>\n",
       "<path class=\"g2_1\" d=\"M11.2,183.9l631.9,0l0,32.4l-631.9,0Z\"/>\n",
       "<path class=\"g2_1\" d=\"M12.7,118.4l631.9,0l0,32.4l-631.9,0Z\"/>\n",
       "<path class=\"g2_1\" d=\"M13.5,56.6l631.9,0l0,34.1l-631.9,0Z\"/>\n",
       "<path class=\"g3_1\" d=\"M108,31.6l481.9,0\"/>\n",
       "<path class=\"g1_1\" d=\"M178.4,24.7c4.7,4.7,4.7,12.3,0,17c-4.7,4.7,-12.3,4.7,-17,0c-4.7,-4.7,-4.7,-12.3,0,-17c4.7,-4.7,12.3,-4.7,17,0Z\"/>\n",
       "<path class=\"g3_1\" d=\"M178.4,24.7c4.7,4.7,4.7,12.3,0,17c-4.7,4.7,-12.3,4.7,-17,0c-4.7,-4.7,-4.7,-12.3,0,-17c4.7,-4.7,12.3,-4.7,17,0Z\"/>\n",
       "<path class=\"g1_1\" d=\"M299.1,24.7c4.7,4.7,4.7,12.3,0,17c-4.7,4.7,-12.3,4.7,-17,0c-4.7,-4.7,-4.7,-12.3,0,-17c4.7,-4.7,12.3,-4.7,17,0Z\"/>\n",
       "<path class=\"g3_1\" d=\"M299.1,24.7c4.7,4.7,4.7,12.3,0,17c-4.7,4.7,-12.3,4.7,-17,0c-4.7,-4.7,-4.7,-12.3,0,-17c4.7,-4.7,12.3,-4.7,17,0Z\"/>\n",
       "<path class=\"g1_1\" d=\"M419.8,24.7c4.7,4.7,4.7,12.3,0,17c-4.7,4.7,-12.3,4.7,-17,0c-4.7,-4.7,-4.7,-12.3,0,-17c4.7,-4.7,12.3,-4.7,17,0Z\"/>\n",
       "<path class=\"g3_1\" d=\"M419.8,24.7c4.7,4.7,4.7,12.3,0,17c-4.7,4.7,-12.3,4.7,-17,0c-4.7,-4.7,-4.7,-12.3,0,-17c4.7,-4.7,12.3,-4.7,17,0Z\"/>\n",
       "<path class=\"g1_1\" d=\"M540.5,24.7c4.7,4.7,4.7,12.3,0,17c-4.7,4.7,-12.4,4.7,-17,0c-4.7,-4.7,-4.7,-12.3,0,-17c4.6,-4.7,12.3,-4.7,17,0Z\"/>\n",
       "<path class=\"g3_1\" d=\"M540.5,24.7c4.7,4.7,4.7,12.3,0,17c-4.7,4.7,-12.4,4.7,-17,0c-4.7,-4.7,-4.7,-12.3,0,-17c4.6,-4.7,12.3,-4.7,17,0Z\"/>\n",
       "<path class=\"g4_1\" d=\"M108,52.7l0,-42.1\"/>\n",
       "<path class=\"g4_1\" d=\"M228.6,51.5l0,-42.2\"/>\n",
       "<path class=\"g4_1\" d=\"M349.2,51.5l0,-42.2\"/>\n",
       "<path class=\"g4_1\" d=\"M469.9,51.5l0,-42.2\"/>\n",
       "<path class=\"g4_1\" d=\"M590.6,51.5l0,-42.2\"/>\n",
       "<text class=\"s1_1\" dx=\"0,0,0,0,0,0\" x=\"28\" y=\"80\">center</text>\n",
       "\n",
       "<text class=\"s2_1\" dx=\"0,0,0,0,0\" x=\"148\" y=\"80\">f[0] </text>\n",
       "\n",
       "<text class=\"s2_1\" dx=\"0,0,0,0,0\" x=\"270\" y=\"80\">f[1] </text>\n",
       "\n",
       "<text class=\"s2_1\" dx=\"0,0\" x=\"401\" y=\"80\">… </text>\n",
       "\n",
       "<text class=\"s2_1\" dx=\"0,0,0,0,0,0,0\" x=\"503\" y=\"80\">f[n-1] </text>\n",
       "\n",
       "<text class=\"s1_1\" dx=\"0,0,0,0\" x=\"53\" y=\"111\">left</text>\n",
       "\n",
       "<text class=\"s2_1\" dx=\"0,0,0,0,0\" x=\"89\" y=\"110\">f[0] </text>\n",
       "\n",
       "<text class=\"s2_1\" dx=\"0,0,0,0,0\" x=\"210\" y=\"110\">f[1] </text>\n",
       "\n",
       "<text class=\"s2_1\" dx=\"0,0\" x=\"342\" y=\"110\">… </text>\n",
       "\n",
       "<text class=\"s2_1\" dx=\"0,0,0,0,0,0,0\" x=\"443\" y=\"110\">f[n-1] </text>\n",
       "\n",
       "<text class=\"s1_1\" dx=\"0,0,0,0,0\" x=\"42\" y=\"142\">right</text>\n",
       "\n",
       "<text class=\"s2_1\" dx=\"0,0,0,0,0\" x=\"209\" y=\"141\">f[0] </text>\n",
       "\n",
       "<text class=\"s2_1\" dx=\"0,0,0,0,0\" x=\"331\" y=\"141\">f[1] </text>\n",
       "\n",
       "<text class=\"s2_1\" dx=\"0,0\" x=\"462\" y=\"141\">… </text>\n",
       "\n",
       "<text class=\"s2_1\" dx=\"0,0,0,0,0,0,0\" x=\"564\" y=\"141\">f[n-1] </text>\n",
       "\n",
       "<text class=\"s1_1\" dx=\"0,0,0,0,0\" x=\"38\" y=\"172\">inner</text>\n",
       "\n",
       "<text class=\"s2_1\" dx=\"0,0,0,0,0\" x=\"210\" y=\"171\">f[0] </text>\n",
       "\n",
       "<text class=\"s2_1\" dx=\"0,0\" x=\"342\" y=\"171\">… </text>\n",
       "\n",
       "<text class=\"s2_1\" dx=\"0,0,0,0,0,0\" x=\"443\" y=\"171\">f[n-2]</text>\n",
       "\n",
       "<text class=\"s3_1\" dx=\"0,0,0,0,0,0,0,0\" x=\"16\" y=\"49\">position</text>\n",
       "\n",
       "<text class=\"s1_1\" dx=\"0,0,0,0,0\" x=\"37\" y=\"203\">outer</text>\n",
       "\n",
       "<text class=\"s2_1\" dx=\"0,0,0,0,0\" x=\"89\" y=\"202\">f[0] </text>\n",
       "\n",
       "<text class=\"s2_1\" dx=\"0,0,0,0,0\" x=\"210\" y=\"202\">f[1] </text>\n",
       "\n",
       "<text class=\"s2_1\" dx=\"0,0\" x=\"342\" y=\"202\">… </text>\n",
       "\n",
       "<text class=\"s2_1\" dx=\"0,0,0,0,0,0,0\" x=\"443\" y=\"202\">f[n-1] </text>\n",
       "\n",
       "<text class=\"s2_1\" dx=\"0,0,0,0\" x=\"575\" y=\"202\">f[n]</text>\n",
       "\n",
       "\n",
       "\n",
       "<!-- Any embedded fonts defined here -->\n",
       "<style type=\"text/css\"><![CDATA[\n",
       "\n",
       "@font-face {\n",
       "\tfont-family: LucidaConsole_9;\n",
       "\tsrc: url(\"fonts/LucidaConsole_9.woff\") format(\"woff\");\n",
       "}\n",
       "\n",
       "@font-face {\n",
       "\tfont-family: Helvetica-Bold_a;\n",
       "\tsrc: url(\"fonts/Helvetica-Bold_a.woff\") format(\"woff\");\n",
       "}\n",
       "\n",
       "@font-face {\n",
       "\tfont-family: Helvetica_8;\n",
       "\tsrc: url(\"fonts/Helvetica_8.woff\") format(\"woff\");\n",
       "}\n",
       "\n",
       "]]></style>\n",
       "\n",
       "</svg>"
      ],
      "text/plain": [
       "<IPython.core.display.SVG object>"
      ]
     },
     "execution_count": 10,
     "metadata": {},
     "output_type": "execute_result"
    }
   ],
   "source": [
    "'/Users/vrx/notebooks/xgcm/SVG(filename=axis_positions.svg')"
   ]
  },
  {
   "cell_type": "markdown",
   "metadata": {},
   "source": [
    "<img src='/Users/vrx/notebooks/xgcm/Whole_grid.png>"
   ]
  },
  {
   "cell_type": "code",
   "execution_count": 11,
   "metadata": {},
   "outputs": [
    {
     "name": "stderr",
     "output_type": "stream",
     "text": [
      "/Users/vrx/miniconda3/envs/owl/lib/python3.6/_collections_abc.py:720: FutureWarning: iteration over an xarray.Dataset will change in xarray v0.11 to only include data variables, not coordinates. Iterate over the Dataset.variables property instead to preserve existing behavior in a forwards compatible manner.\n",
      "  yield from self._mapping\n"
     ]
    }
   ],
   "source": [
    "rename_dict = {'eta_u':'eta_rho', 'xi_v':'xi_rho'}\n",
    "\n",
    "def rename_redundant_dim(ds, rename_dict):\n",
    "    for k,v in rename_dict.items():\n",
    "        ds_full = ds.copy()\n",
    "        # remove redundant dims\n",
    "        drop_vars = [a for a in ds.keys() if k in ds[a].dims]\n",
    "        ds = ds.drop(drop_vars)\n",
    "        for d in ds_full.data_vars:\n",
    "            if k in ds_full[d].dims:\n",
    "                ds[d] = ds_full[d].rename({k:v})\n",
    "        for c in ds_full.coords:\n",
    "            if k in ds_full[c].dims:\n",
    "                ds.coords[c] = ds_full[c].rename({k:v})\n",
    "    return ds\n",
    "\n",
    "model = rename_redundant_dim(model, rename_dict);"
   ]
  },
  {
   "cell_type": "code",
   "execution_count": 8,
   "metadata": {},
   "outputs": [],
   "source": [
    "depths = get_depths(ds, 'rho', 0)"
   ]
  },
  {
   "cell_type": "code",
   "execution_count": 9,
   "metadata": {},
   "outputs": [],
   "source": [
    "fgb_depths = depths[:,28,306]\n",
    "fgb_int = (fgb_depths[1:].data + fgb_depths[:-1].data)*.5"
   ]
  },
  {
   "cell_type": "code",
   "execution_count": 10,
   "metadata": {},
   "outputs": [],
   "source": [
    "salt_diff = salt.diff('s_rho')"
   ]
  },
  {
   "cell_type": "code",
   "execution_count": 11,
   "metadata": {},
   "outputs": [],
   "source": [
    "temp_dif = temp.diff('s_rho')"
   ]
  },
  {
   "cell_type": "code",
   "execution_count": null,
   "metadata": {},
   "outputs": [],
   "source": [
    "t , d = np.meshgrid(ds['ocean_time'].data, fgb_int)"
   ]
  },
  {
   "cell_type": "code",
   "execution_count": 13,
   "metadata": {},
   "outputs": [
    {
     "data": {
      "text/plain": [
       "('ocean_time', 's_rho')"
      ]
     },
     "execution_count": 13,
     "metadata": {},
     "output_type": "execute_result"
    }
   ],
   "source": [
    ".dims"
   ]
  },
  {
   "cell_type": "code",
   "execution_count": 22,
   "metadata": {},
   "outputs": [
    {
     "data": {
      "text/plain": [
       "<matplotlib.colorbar.Colorbar at 0x11bb91128>"
      ]
     },
     "execution_count": 22,
     "metadata": {},
     "output_type": "execute_result"
    },
    {
     "data": {
      "image/png": "[encoded data removed]",
      "text/plain": [
       "<Figure size 432x288 with 2 Axes>"
      ]
     },
     "metadata": {},
     "output_type": "display_data"
    }
   ],
   "source": [
    "plt.pcolormesh(ds['ocean_time'], fgb_int, (salt_diff/ fgb_depths.diff('srho')).data.T, \n",
    "               cmap='RdBu', vmin=-0.1, vmax= 0.1)\n",
    "plt.colorbar()"
   ]
  },
  {
   "cell_type": "code",
   "execution_count": null,
   "metadata": {},
   "outputs": [],
   "source": [
    "plt.pcolormesh(ds['ocean_time'].data, fgb_int, temp_diff.data.T, \n",
    "               cmap='RdBu', vmin=-1, vmax=1)"
   ]
  },
  {
   "cell_type": "code",
   "execution_count": null,
   "metadata": {},
   "outputs": [],
   "source": [
    "#lat_rho=27.89632222, lon_rho=-93.59722222\n",
    "# lons[0,301:303]\n",
    "ds.salt[0,-1,29, 301]"
   ]
  },
  {
   "cell_type": "code",
   "execution_count": null,
   "metadata": {},
   "outputs": [],
   "source": [
    "#lat_rho=27.89632222, lon_rho=-93.59722222\n",
    "print(lons[28,306].data)\n",
    "lats[28,306].data"
   ]
  },
  {
   "cell_type": "code",
   "execution_count": null,
   "metadata": {},
   "outputs": [],
   "source": [
    "# def read_model(buoy, which, dstart, dend, timing='recent', units='Metric',\n",
    "#                tz='utc', s_rho=-1):"
   ]
  }
 ],
 "metadata": {
  "kernelspec": {
   "display_name": "Python 3",
   "language": "python",
   "name": "python3"
  },
  "language_info": {
   "codemirror_mode": {
    "name": "ipython",
    "version": 3
   },
   "file_extension": ".py",
   "mimetype": "text/x-python",
   "name": "python",
   "nbconvert_exporter": "python",
   "pygments_lexer": "ipython3",
   "version": "3.6.5"
  }
 },
 "nbformat": 4,
 "nbformat_minor": 2
}
